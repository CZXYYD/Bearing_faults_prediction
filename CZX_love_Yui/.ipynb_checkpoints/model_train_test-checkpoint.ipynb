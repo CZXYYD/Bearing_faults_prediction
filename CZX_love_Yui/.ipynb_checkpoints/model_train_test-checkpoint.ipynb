{
 "cells": [
  {
   "cell_type": "code",
   "execution_count": 1,
   "metadata": {},
   "outputs": [
    {
     "name": "stderr",
     "output_type": "stream",
     "text": [
      "E:\\anaconda3\\lib\\site-packages\\sklearn\\externals\\joblib\\__init__.py:15: FutureWarning: sklearn.externals.joblib is deprecated in 0.21 and will be removed in 0.23. Please import this functionality directly from joblib, which can be installed with: pip install joblib. If this warning is raised when loading pickled models, you may need to re-serialize those models with scikit-learn 0.21+.\n",
      "  warnings.warn(msg, category=FutureWarning)\n"
     ]
    }
   ],
   "source": [
    "import lightgbm as lgb\n",
    "import numpy as np\n",
    "import pandas as pd\n",
    "import os\n",
    "from sklearn.externals import joblib\n",
    "from sklearn.metrics import classification_report\n",
    "from sklearn.metrics import f1_score"
   ]
  },
  {
   "cell_type": "code",
   "execution_count": 14,
   "metadata": {
    "collapsed": true
   },
   "outputs": [],
   "source": [
    "feature_selected_list = ['DE_time_mean',                                       \n",
    "                         'DE_time_std', \n",
    "                         'DE_time_max',\n",
    "                         'DE_time_min',\n",
    "                         'DE_time_ptp',\n",
    "                         'DE_time_median',\n",
    "                         'DE_time_iqr',\n",
    "                         'DE_time_pr',\n",
    "                         'DE_time_skew',\n",
    "                         'DE_time_kurtosis',\n",
    "                         'DE_time_var',\n",
    "                         'DE_time_amp',\n",
    "                         'DE_time_smr',\n",
    "                         'DE_time_pulse',\n",
    "                         'DE_time_margin',\n",
    "#                         'DE_1X',\n",
    "#                         'DE_2X',\n",
    "#                         'DE_3X',\n",
    "                         'DE_1XRatio',\n",
    "                         'DE_2XRatio',\n",
    "                         'DE_3XRatio',\n",
    "                         'FE_time_mean',\n",
    "                         'FE_time_std',\n",
    "                         'FE_time_max',\n",
    "                         'FE_time_min',\n",
    "                         'FE_time_ptp',\n",
    "                         'FE_time_median',\n",
    "                         'FE_time_iqr',\n",
    "                         'FE_time_pr',\n",
    "                         'FE_time_skew',\n",
    "                         'FE_time_kurtosis',\n",
    "                         'FE_time_var',\n",
    "                         'FE_time_amp',\n",
    "                         'FE_time_smr',\n",
    "                         'FE_time_pulse',\n",
    "                         'FE_time_margin',\n",
    "#                         'FE_1X',\n",
    "#                         'FE_2X',\n",
    "#                         'FE_3X',\n",
    "                         'FE_1XRatio',\n",
    "                         'FE_2XRatio',\n",
    "                         'FE_3XRatio',\n",
    "                         'label']"
   ]
  },
  {
   "cell_type": "code",
   "execution_count": 19,
   "metadata": {},
   "outputs": [],
   "source": [
    "feature_selected_list = ['DE_1XRatio',\n",
    "                         'DE_2XRatio',\n",
    "                         'DE_3XRatio',\n",
    "                          'FE_1XRatio',\n",
    "                         'FE_2XRatio',\n",
    "                         'FE_3XRatio',\n",
    "                         'label']"
   ]
  },
  {
   "cell_type": "code",
   "execution_count": 20,
   "metadata": {
    "collapsed": true
   },
   "outputs": [],
   "source": [
    "feature_all = pd.read_csv('../Data_set/feature_4/feature_all.csv')\n",
    "train_data = feature_all[feature_selected_list]\n",
    "#feature_selected.to_csv('../Data_set/feature_4/feature_selected.csv',index=False)\n",
    "\n",
    "path = '../Data_set/feature_test_all'\n",
    "files = os.listdir(path)\n",
    "\n",
    "index = 0\n",
    "for file2select in files:\n",
    "    index = index + 1\n",
    "    dffile = pd.read_csv(path + '/' + file2select)\n",
    "    #特征筛选\n",
    "    dffile = dffile[feature_selected_list[:-1]]\n",
    "    dffile.to_csv('../Data_set/feature_test/TEST'+str(index).zfill(2)+'.csv',index=False)  "
   ]
  },
  {
   "cell_type": "code",
   "execution_count": 21,
   "metadata": {},
   "outputs": [
    {
     "data": {
      "text/plain": [
       "LGBMClassifier(boosting_type='gbdt', class_weight=None, colsample_bytree=1.0,\n",
       "               importance_type='split', learning_rate=0.1, max_depth=-1,\n",
       "               min_child_samples=20, min_child_weight=0.001, min_split_gain=0.0,\n",
       "               n_estimators=100, n_jobs=-1, num_leaves=31, objective=None,\n",
       "               random_state=2019, reg_alpha=0.0, reg_lambda=0.0, silent=True,\n",
       "               subsample=1.0, subsample_for_bin=200000, subsample_freq=0)"
      ]
     },
     "execution_count": 21,
     "metadata": {},
     "output_type": "execute_result"
    }
   ],
   "source": [
    "# 模型初始化，设置random_state保证可复现性，便于观察优化\n",
    "train_data_y = train_data['label']\n",
    "# 除去标签的所有列就是特征\n",
    "train_data_x = train_data.drop(['label'], axis=1)\n",
    "\n",
    "model_lgb_default = lgb.LGBMClassifier(random_state=2019)\n",
    "# 模型训练\n",
    "model_lgb_default.fit(train_data_x, train_data_y)\n",
    "#joblib.dump(model_lgb_default, './model/lightgbm1_2.model')                 #要改的地方"
   ]
  },
  {
   "cell_type": "code",
   "execution_count": 22,
   "metadata": {
    "collapsed": true
   },
   "outputs": [],
   "source": [
    "model = model_lgb_default\n",
    "\n",
    "#测试集文件路径\n",
    "path = '../Data_set/feature_test'\n",
    "files = os.listdir(path)\n",
    "\n",
    "result = pd.DataFrame()\n",
    "index = 0\n",
    "for test_file in files:\n",
    "    predict_res = pd.DataFrame()\n",
    "    index = index + 1 \n",
    "    dftest_file = pd.read_csv(path + '/' + test_file)\n",
    "    predict = model.predict(dftest_file)\n",
    "    predict_res['label'] = predict\n",
    "    predict_res['filename'] = 'TEST'+str(index).zfill(2)\n",
    "    result = pd.concat([result,predict_res])\n",
    "\n",
    "#result.to_csv('../Data_set/result/result1_2.csv',index=False)                 #要改的地方2"
   ]
  },
  {
   "cell_type": "code",
   "execution_count": 23,
   "metadata": {},
   "outputs": [
    {
     "data": {
      "text/plain": [
       "61.890021082231726"
      ]
     },
     "execution_count": 23,
     "metadata": {},
     "output_type": "execute_result"
    }
   ],
   "source": [
    "#res = pd.read_csv('../Data_set/result/result1_2.csv')                            #要改的地方3\n",
    "\n",
    "switch ={'TEST01':1,\n",
    "         'TEST02':1,\n",
    "         'TEST03':3,   #不确定\n",
    "         'TEST04':2,\n",
    "         'TEST05':2,  #不确定\n",
    "         'TEST06':2,\n",
    "         'TEST07':2,  #\n",
    "         'TEST08':0,\n",
    "         'TEST09':2,\n",
    "         'TEST10':2,    #\n",
    "         'TEST11':2,\n",
    "         'TEST12':3,\n",
    "         'TEST13':3,\n",
    "         'TEST14':1,}\n",
    "\n",
    "y_true = []\n",
    "for ans in result['filename']:\n",
    "    y_true.append(switch.get(ans))\n",
    "\n",
    "y_pred = list(result['label'])\n",
    "\n",
    "#y_pred, y_true =[1,0,1,0], [0,0,1,0]\n",
    "Answer = classification_report(y_true=y_true, y_pred=y_pred, digits=3, output_dict = True)\n",
    "#Answer['0']['f1-score']\n",
    "\n",
    "score = (0.3*(Answer['1']['f1-score']+Answer['2']['f1-score']+Answer['3']['f1-score'])+0.1*Answer['0']['f1-score'])*100\n",
    "score"
   ]
  },
  {
   "cell_type": "code",
   "execution_count": null,
   "metadata": {
    "collapsed": true
   },
   "outputs": [],
   "source": []
  }
 ],
 "metadata": {
  "kernelspec": {
   "display_name": "Python 3",
   "language": "python",
   "name": "python3"
  },
  "language_info": {
   "codemirror_mode": {
    "name": "ipython",
    "version": 3
   },
   "file_extension": ".py",
   "mimetype": "text/x-python",
   "name": "python",
   "nbconvert_exporter": "python",
   "pygments_lexer": "ipython3",
   "version": "3.6.4"
  }
 },
 "nbformat": 4,
 "nbformat_minor": 2
}
