{
 "cells": [
  {
   "cell_type": "code",
   "execution_count": 59,
   "metadata": {
    "collapsed": true
   },
   "outputs": [],
   "source": [
    "import pandas as pd\n",
    "import numpy as np\n",
    "import os\n",
    "from scipy import stats\n",
    "from scipy import signal"
   ]
  },
  {
   "cell_type": "code",
   "execution_count": 2,
   "metadata": {
    "collapsed": true
   },
   "outputs": [],
   "source": [
    "#列名定义\n",
    "df_out_columns = ['time_mean','time_std','time_max','time_min',\n",
    "                  'time_ptp','time_median','time_iqr','time_pr',\n",
    "                  'time_skew','time_kurtosis','time_var','time_amp',\n",
    "                  'time_smr',\n",
    "                  'time_pulse','time_margin','1X','2X','3X','1XRatio',\n",
    "                  '2XRatio','3XRatio']    #'time_rms','time_wavefactor','time_peakfactor',"
   ]
  },
  {
   "cell_type": "code",
   "execution_count": 12,
   "metadata": {
    "collapsed": true
   },
   "outputs": [],
   "source": [
    "DE_columns = ['DE_' + i for i in df_out_columns]\n",
    "FE_columns = ['FE_' + i for i in df_out_columns]\n",
    "label_columns = ['label']\n",
    "full_columns = DE_columns + FE_columns + label_columns"
   ]
  },
  {
   "cell_type": "code",
   "execution_count": 4,
   "metadata": {
    "collapsed": true
   },
   "outputs": [],
   "source": [
    "#直接白嫖特征提取函数\n",
    "def featureget(df_line):\n",
    "    #提取时域特征\n",
    "    time_mean = df_line.mean()\n",
    "    time_std = df_line.std()\n",
    "    time_max = df_line.max()\n",
    "    time_min = df_line.min()\n",
    "    #time_rms = np.sqrt(np.square(df_line).mean().astype(np.float64))   #AttributeError: 'float' object has no attribute 'astype'\n",
    "    time_ptp = np.asarray(df_line).ptp()\n",
    "    time_median = np.median(df_line)\n",
    "    time_iqr = np.percentile(df_line,75)-np.percentile(df_line,25)\n",
    "    time_pr = np.percentile(df_line,90)-np.percentile(df_line,10)\n",
    "    time_skew = stats.skew(df_line)\n",
    "    time_kurtosis = stats.kurtosis(df_line)\n",
    "    time_var = np.var(df_line)\n",
    "    time_amp = np.abs(df_line).mean()\n",
    "    time_smr = np.square(np.sqrt(np.abs(df_line).astype(np.float64)).mean())\n",
    "    #下面四个特征需要注意分母为0或接近0问题，可能会发生报错\n",
    "    #time_wavefactor = time_rms/time_amp\n",
    "    #time_peakfactor = time_max/time_rms\n",
    "    time_pulse = time_max/time_amp\n",
    "    time_margin = time_max/time_smr\n",
    "    #提取频域特征倍频能量以及能量占比\n",
    "    plist_raw = np.fft.fft(list(df_line), n=1024)\n",
    "    plist = np.abs(plist_raw)\n",
    "    plist_energy = (np.square(plist)).sum()\n",
    "    #在傅里叶变换结果中，在32点处的幅值为一倍频幅值，64点处幅值为二倍频幅值，96点处为三倍频幅值，因此提取这三处幅值并计算能量占比\n",
    "    return_list = [\n",
    "    time_mean,time_std,time_max,time_min,time_ptp, \n",
    "    time_median,time_iqr,time_pr,time_skew,time_kurtosis,\n",
    "    time_var,time_amp,time_smr,\n",
    "    time_pulse,time_margin,plist[32], plist[64], plist[96],\n",
    "    np.square(plist[32]) / plist_energy,\n",
    "    np.square(plist[64]) / plist_energy,\n",
    "    np.square(plist[96]) / plist_energy\n",
    "    ]                                              #time_rms,time_wavefactor,time_peakfactor,\n",
    "    return return_list"
   ]
  },
  {
   "cell_type": "code",
   "execution_count": 38,
   "metadata": {
    "collapsed": true
   },
   "outputs": [],
   "source": [
    "windowSize = 150   #时间窗大小          #时间片从100改为150，得分cong81.7提高到84\n",
    "\n",
    "#约定normal(NORMAL), ball(B), outer race(OR), inner race(IR)的预测输出标签为0, 1, 2, 3\n",
    "\n",
    "####################################################################################################################\n",
    "#特征提取的文件路径  B\n",
    "B_fault = pd.read_csv('./merge_4/B_fault.csv')\n",
    "\n",
    "feature_B = []\n",
    "for i in range(0,int(len(B_fault)/windowSize)):  #int(len(B_fault)/windowSize)              #残余数据省略了，能不能改进？\n",
    "    fea_DE = featureget(B_fault.loc[i*windowSize+1:(i+1)*windowSize,'DE_time'])\n",
    "    fea_FE = featureget(B_fault.loc[i*windowSize+1:(i+1)*windowSize,'FE_time'])\n",
    "    fea_FE.extend('1')\n",
    "    fea_DE.extend(fea_FE)\n",
    "    feature_B.append(fea_DE)\n",
    "\n",
    "#换成数据帧格式\n",
    "feature_B = pd.DataFrame(feature_B,columns=full_columns)\n",
    "#提取完的保存路径\n",
    "#feature_B.to_csv('../Data_set/feature_4/feature_B.csv',index=False)\n",
    "\n",
    "####################################################################################################################\n",
    "#特征提取的文件路径    IR\n",
    "IR_fault = pd.read_csv('./merge_4/IR_fault.csv')\n",
    "\n",
    "feature_IR = []\n",
    "for i in range(0,int(len(IR_fault)/windowSize)):  #int(len(B_fault)/windowSize)              #残余数据省略了，能不能改进？\n",
    "    fea_DE = featureget(IR_fault.loc[i*windowSize+1:(i+1)*windowSize,'DE_time'])\n",
    "    fea_FE = featureget(IR_fault.loc[i*windowSize+1:(i+1)*windowSize,'FE_time'])\n",
    "    fea_FE.extend('3')\n",
    "    fea_DE.extend(fea_FE)\n",
    "    feature_IR.append(fea_DE)\n",
    "    \n",
    "#换成数据帧格式\n",
    "feature_IR = pd.DataFrame(feature_IR,columns=full_columns)\n",
    "#提取完的保存路径\n",
    "#feature_IR.to_csv('../Data_set/feature_4/feature_IR.csv',index=False)\n",
    "\n",
    "###############################################################################################################\n",
    "#特征提取的文件路径    NORMAL\n",
    "NORMAL = pd.read_csv('./merge_4/NORMAL.csv')\n",
    "\n",
    "feature_NORMAL = []\n",
    "for i in range(0,int(len(NORMAL)/windowSize)):  #int(len(B_fault)/windowSize)              #残余数据省略了，能不能改进？\n",
    "    fea_DE = featureget(NORMAL.loc[i*windowSize+1:(i+1)*windowSize,'DE_time'])\n",
    "    fea_FE = featureget(NORMAL.loc[i*windowSize+1:(i+1)*windowSize,'FE_time'])\n",
    "    fea_FE.extend('0') \n",
    "    fea_DE.extend(fea_FE)\n",
    "    feature_NORMAL.append(fea_DE)\n",
    "\n",
    "#换成数据帧格式\n",
    "feature_NORMAL = pd.DataFrame(feature_NORMAL,columns=full_columns)\n",
    "#提取完的保存路径\n",
    "#feature_NORMAL.to_csv('../Data_set/feature_4/feature_NORMAL.csv',index=False)\n",
    "\n",
    "##################################################################################################################################\n",
    "#特征提取的文件路径    OR\n",
    "OR_fault = pd.read_csv('./merge_4/OR_fault.csv')\n",
    "\n",
    "feature_OR = []\n",
    "for i in range(0,int(len(OR_fault)/windowSize)):  #int(len(B_fault)/windowSize)              #残余数据省略了，能不能改进？\n",
    "    fea_DE = featureget(OR_fault.loc[i*windowSize+1:(i+1)*windowSize,'DE_time'])\n",
    "    fea_FE = featureget(OR_fault.loc[i*windowSize+1:(i+1)*windowSize,'FE_time'])\n",
    "    fea_FE.extend('2')\n",
    "    fea_DE.extend(fea_FE)\n",
    "    feature_OR.append(fea_DE)\n",
    "\n",
    "#换成数据帧格式\n",
    "feature_OR = pd.DataFrame(feature_OR,columns=full_columns)\n",
    "#提取完的保存路径\n",
    "#feature_OR.to_csv('../Data_set/feature_4/feature_OR.csv',index=False)"
   ]
  },
  {
   "cell_type": "markdown",
   "metadata": {},
   "source": [
    "测试集特征提取，结果保存在Data_set/feature_test_all"
   ]
  },
  {
   "cell_type": "code",
   "execution_count": 42,
   "metadata": {
    "collapsed": true
   },
   "outputs": [],
   "source": [
    "test1 = pd.read_csv('../Data_set/test/TEST01.csv')\n",
    "test2 = pd.read_csv('../Data_set/test/TEST02.csv')\n",
    "test3 = pd.read_csv('../Data_set/test/TEST03.csv')\n",
    "test4 = pd.read_csv('../Data_set/test/TEST04.csv')\n",
    "test5 = pd.read_csv('../Data_set/test/TEST05.csv')\n",
    "test6 = pd.read_csv('../Data_set/test/TEST06.csv')\n",
    "test7 = pd.read_csv('../Data_set/test/TEST07.csv')\n",
    "test8 = pd.read_csv('../Data_set/test/TEST08.csv')\n",
    "test9 = pd.read_csv('../Data_set/test/TEST09.csv')\n",
    "test10 = pd.read_csv('../Data_set/test/TEST10.csv')\n",
    "test11 = pd.read_csv('../Data_set/test/TEST11.csv')\n",
    "test12 = pd.read_csv('../Data_set/test/TEST12.csv')\n",
    "test13 = pd.read_csv('../Data_set/test/TEST13.csv')\n",
    "test14 = pd.read_csv('../Data_set/test/TEST14.csv')"
   ]
  },
  {
   "cell_type": "code",
   "execution_count": 45,
   "metadata": {
    "collapsed": true
   },
   "outputs": [],
   "source": [
    "index = 0\n",
    "for test in [test1,test2,test3,test4,test5,test6,test7,test8,test9,test10,test11,test12,test13,test14]:\n",
    "    feature_test = []\n",
    "    index = index + 1\n",
    "    for i in range(0,int(len(test)/windowSize)):  #int(len(B_fault)/windowSize)              #残余数据省略了，能不能改进？\n",
    "        fea_DE = featureget(test.loc[i*windowSize+1:(i+1)*windowSize,'DE_time'])\n",
    "        fea_FE = featureget(test.loc[i*windowSize+1:(i+1)*windowSize,'FE_time'])\n",
    "        fea_DE.extend(fea_FE)\n",
    "        feature_test.append(fea_DE)\n",
    "    #换成数据帧格式\n",
    "    feature_test = pd.DataFrame(feature_test,columns=full_columns[:-1])\n",
    "    \n",
    "    feature_test.to_csv('../Data_set/feature_test_all/TEST'+str(index).zfill(2)+'_all.csv',index=False)"
   ]
  },
  {
   "cell_type": "markdown",
   "metadata": {},
   "source": [
    "### 特征筛选"
   ]
  },
  {
   "cell_type": "code",
   "execution_count": 60,
   "metadata": {
    "collapsed": true
   },
   "outputs": [],
   "source": [
    "feature_selected_list = ['DE_time_mean',                                       \n",
    "                         'DE_time_std', \n",
    "                         'DE_time_max',\n",
    "                         'DE_time_min',\n",
    "                         'DE_time_ptp',\n",
    "                         'DE_time_median',\n",
    "                         'DE_time_iqr',\n",
    "                         'DE_time_pr',\n",
    "                         'DE_time_skew',\n",
    "                         'DE_time_kurtosis',\n",
    "                     #    'DE_time_var',\n",
    "                         'DE_time_amp',\n",
    "                         'DE_time_smr',\n",
    "                         'DE_time_pulse',\n",
    "                      #   'DE_time_margin',\n",
    "                         'DE_1X',\n",
    "                         'DE_2X',\n",
    "                         'DE_3X',\n",
    "                         'DE_1XRatio',\n",
    "                         'DE_2XRatio',\n",
    "                         'DE_3XRatio',\n",
    "                         'FE_time_mean',\n",
    "                         'FE_time_std',\n",
    "                         'FE_time_max',\n",
    "                         'FE_time_min',\n",
    "                         'FE_time_ptp',\n",
    "                         'FE_time_median',\n",
    "                         'FE_time_iqr',\n",
    "                         'FE_time_pr',\n",
    "                         'FE_time_skew',\n",
    "                         'FE_time_kurtosis',\n",
    "                      #   'FE_time_var',\n",
    "                         'FE_time_amp',\n",
    "                         'FE_time_smr',\n",
    "                         'FE_time_pulse',\n",
    "                     #    'FE_time_margin',\n",
    "                         'FE_1X',\n",
    "                         'FE_2X',\n",
    "                         'FE_3X',\n",
    "                         'FE_1XRatio',\n",
    "                         'FE_2XRatio',\n",
    "                         'FE_3XRatio',\n",
    "                         'label']"
   ]
  },
  {
   "cell_type": "markdown",
   "metadata": {},
   "source": [
    "训练集特征筛选,筛选后的训练文件/Data_set/feature_4/feature_selected.csv"
   ]
  },
  {
   "cell_type": "code",
   "execution_count": 61,
   "metadata": {
    "collapsed": true
   },
   "outputs": [],
   "source": [
    "#frames = [feature_B,feature_IR,feature_NORMAL,feature_OR]\n",
    "#feature_all = pd.concat(frames)\n",
    "feature_all = pd.read_csv('../Data_set/feature_4/feature_all.csv')\n",
    "\n",
    "#特征筛选\n",
    "feature_selected = feature_all[feature_selected_list]\n",
    "\n",
    "feature_selected.to_csv('../Data_set/feature_4/feature_selected.csv',index=False)"
   ]
  },
  {
   "cell_type": "markdown",
   "metadata": {},
   "source": [
    "测试集特征筛选，筛选后的测试文件/Data_set/feature_test/TEST0x.csv"
   ]
  },
  {
   "cell_type": "code",
   "execution_count": 62,
   "metadata": {
    "collapsed": true
   },
   "outputs": [],
   "source": [
    "path = '../Data_set/feature_test_all'\n",
    "files = os.listdir(path)\n",
    "\n",
    "index = 0\n",
    "for file2select in files:\n",
    "    index = index + 1\n",
    "    dffile = pd.read_csv(path + '/' + file2select)\n",
    "    #特征筛选\n",
    "    dffile = dffile[feature_selected_list[:-1]]\n",
    "    dffile.to_csv('../Data_set/feature_test/TEST'+str(index).zfill(2)+'.csv',index=False)  "
   ]
  },
  {
   "cell_type": "markdown",
   "metadata": {},
   "source": [
    "记录\n",
    "1.全部，model1_0,score81.\n",
    "3.不用DE_time_var，DE_time_margin，model1_2,score84.65259032102647"
   ]
  }
 ],
 "metadata": {
  "kernelspec": {
   "display_name": "Python 3",
   "language": "python",
   "name": "python3"
  },
  "language_info": {
   "codemirror_mode": {
    "name": "ipython",
    "version": 3
   },
   "file_extension": ".py",
   "mimetype": "text/x-python",
   "name": "python",
   "nbconvert_exporter": "python",
   "pygments_lexer": "ipython3",
   "version": "3.6.4"
  }
 },
 "nbformat": 4,
 "nbformat_minor": 2
}
