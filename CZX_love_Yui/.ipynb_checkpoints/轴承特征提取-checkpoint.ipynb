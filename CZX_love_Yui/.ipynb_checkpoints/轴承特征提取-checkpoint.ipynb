{
 "cells": [
  {
   "cell_type": "code",
   "execution_count": 167,
   "metadata": {
    "collapsed": true
   },
   "outputs": [],
   "source": [
    "import pandas as pd\n",
    "import numpy as np\n",
    "import os\n",
    "from scipy import stats\n",
    "from scipy import signal"
   ]
  },
  {
   "cell_type": "code",
   "execution_count": 168,
   "metadata": {
    "collapsed": true
   },
   "outputs": [],
   "source": [
    "#列名定义\n",
    "df_out_columns = ['time_mean','time_std','time_max','time_min',\n",
    "                  'time_ptp','time_median','time_iqr','time_pr',\n",
    "                  'time_skew','time_kurtosis','time_var','time_amp',\n",
    "                  'time_smr',\n",
    "                  'time_pulse','time_margin','1X','2X','3X','1XRatio',\n",
    "                  '2XRatio','3XRatio']    #'time_rms','time_wavefactor','time_peakfactor',"
   ]
  },
  {
   "cell_type": "code",
   "execution_count": 169,
   "metadata": {
    "collapsed": true
   },
   "outputs": [],
   "source": [
    "DE_columns = ['DE_' + i for i in df_out_columns]\n",
    "FE_columns = ['FE_' + i for i in df_out_columns]\n",
    "label_columns = ['label']\n",
    "full_columns = DE_columns + FE_columns + label_columns"
   ]
  },
  {
   "cell_type": "code",
   "execution_count": 170,
   "metadata": {
    "collapsed": true
   },
   "outputs": [],
   "source": [
    "#直接白嫖特征提取函数\n",
    "def featureget(df_line):\n",
    "    #提取时域特征\n",
    "    time_mean = df_line.mean()\n",
    "    time_std = df_line.std()\n",
    "    time_max = df_line.max()\n",
    "    time_min = df_line.min()\n",
    "    #time_rms = np.sqrt(np.square(df_line).mean().astype(np.float64))   #AttributeError: 'float' object has no attribute 'astype'\n",
    "    time_ptp = np.asarray(df_line).ptp()\n",
    "    time_median = np.median(df_line)\n",
    "    time_iqr = np.percentile(df_line,75)-np.percentile(df_line,25)\n",
    "    time_pr = np.percentile(df_line,90)-np.percentile(df_line,10)\n",
    "    time_skew = stats.skew(df_line)\n",
    "    time_kurtosis = stats.kurtosis(df_line)\n",
    "    time_var = np.var(df_line)\n",
    "    time_amp = np.abs(df_line).mean()\n",
    "    time_smr = np.square(np.sqrt(np.abs(df_line).astype(np.float64)).mean())\n",
    "    #下面四个特征需要注意分母为0或接近0问题，可能会发生报错\n",
    "    #time_wavefactor = time_rms/time_amp\n",
    "    #time_peakfactor = time_max/time_rms\n",
    "    time_pulse = time_max/time_amp\n",
    "    time_margin = time_max/time_smr\n",
    "    #提取频域特征倍频能量以及能量占比\n",
    "    plist_raw = np.fft.fft(list(df_line), n=1024)\n",
    "    plist = np.abs(plist_raw)\n",
    "    plist_energy = (np.square(plist)).sum()\n",
    "    #在傅里叶变换结果中，在32点处的幅值为一倍频幅值，64点处幅值为二倍频幅值，96点处为三倍频幅值，因此提取这三处幅值并计算能量占比\n",
    "    return_list = [\n",
    "    time_mean,time_std,time_max,time_min,time_ptp, \n",
    "    time_median,time_iqr,time_pr,time_skew,time_kurtosis,\n",
    "    time_var,time_amp,time_smr,\n",
    "    time_pulse,time_margin,plist[32], plist[64], plist[96],\n",
    "    np.square(plist[32]) / plist_energy,\n",
    "    np.square(plist[64]) / plist_energy,\n",
    "    np.square(plist[96]) / plist_energy\n",
    "    ]                                              #time_rms,time_wavefactor,time_peakfactor,\n",
    "    return return_list"
   ]
  },
  {
   "cell_type": "code",
   "execution_count": 171,
   "metadata": {
    "collapsed": true
   },
   "outputs": [],
   "source": [
    "windowSize = 100   #时间窗大小"
   ]
  },
  {
   "cell_type": "code",
   "execution_count": 181,
   "metadata": {
    "collapsed": true
   },
   "outputs": [],
   "source": [
    "#特征提取的文件路径  B\n",
    "B_fault = pd.read_csv('./merge_4/B_fault.csv')\n",
    "\n",
    "feature_B = []\n",
    "for i in range(0,int(len(B_fault)/windowSize)):  #int(len(B_fault)/windowSize)              #残余数据省略了，能不能改进？\n",
    "    fea_DE = featureget(B_fault.loc[i*windowSize+1:(i+1)*windowSize,'DE_time'])\n",
    "    fea_FE = featureget(B_fault.loc[i*windowSize+1:(i+1)*windowSize,'FE_time'])\n",
    "    #fea_DE.extend('B')\n",
    "    fea_FE.extend('B')\n",
    "    #feature_DE.append(fea_DE)          \n",
    "    #feature_FE.append(fea_FE)  \n",
    "    fea_DE.extend(fea_FE)\n",
    "    feature_B.append(fea_DE)\n",
    "    #print(feature_B)\n",
    "#换成数据帧格式\n",
    "feature_B = pd.DataFrame(feature_B,columns=full_columns)\n",
    "#提取完的保存路径\n",
    "feature_B.to_csv('./feature_4/feature_B.csv',index=False)"
   ]
  },
  {
   "cell_type": "code",
   "execution_count": 178,
   "metadata": {},
   "outputs": [],
   "source": [
    "#特征提取的文件路径    IR\n",
    "IR_fault = pd.read_csv('./merge_4/IR_fault.csv')\n",
    "\n",
    "feature_IR = []\n",
    "for i in range(0,int(len(IR_fault)/windowSize)):  #int(len(B_fault)/windowSize)              #残余数据省略了，能不能改进？\n",
    "    fea_DE = featureget(IR_fault.loc[i*windowSize+1:(i+1)*windowSize,'DE_time'])\n",
    "    fea_FE = featureget(IR_fault.loc[i*windowSize+1:(i+1)*windowSize,'FE_time'])\n",
    "    fea_FE.extend(['IR'])\n",
    "    fea_DE.extend(fea_FE)\n",
    "    feature_IR.append(fea_DE)\n",
    "\n",
    "\n",
    "\n",
    "#换成数据帧格式\n",
    "feature_IR = pd.DataFrame(feature_IR,columns=full_columns)\n",
    "#提取完的保存路径\n",
    "feature_IR.to_csv('./feature_4/feature_IR.csv',index=False)"
   ]
  },
  {
   "cell_type": "code",
   "execution_count": 182,
   "metadata": {
    "collapsed": true
   },
   "outputs": [],
   "source": [
    "#特征提取的文件路径    NORMAL\n",
    "NORMAL = pd.read_csv('./merge_4/NORMAL.csv')\n",
    "\n",
    "feature_NORMAL = []\n",
    "for i in range(0,int(len(NORMAL)/windowSize)):  #int(len(B_fault)/windowSize)              #残余数据省略了，能不能改进？\n",
    "    fea_DE = featureget(NORMAL.loc[i*windowSize+1:(i+1)*windowSize,'DE_time'])\n",
    "    fea_FE = featureget(NORMAL.loc[i*windowSize+1:(i+1)*windowSize,'FE_time'])\n",
    "    fea_FE.extend(['NORMAL']) \n",
    "    fea_DE.extend(fea_FE)\n",
    "    feature_NORMAL.append(fea_DE)\n",
    "\n",
    "#换成数据帧格式\n",
    "feature_NORMAL = pd.DataFrame(feature_NORMAL,columns=full_columns)\n",
    "#提取完的保存路径\n",
    "feature_NORMAL.to_csv('./feature_4/feature_NORMAL.csv',index=False)"
   ]
  },
  {
   "cell_type": "code",
   "execution_count": 183,
   "metadata": {
    "collapsed": true
   },
   "outputs": [],
   "source": [
    "#特征提取的文件路径    OR\n",
    "OR_fault = pd.read_csv('./merge_4/OR_fault.csv')\n",
    "\n",
    "feature_OR = []\n",
    "for i in range(0,int(len(OR_fault)/windowSize)):  #int(len(B_fault)/windowSize)              #残余数据省略了，能不能改进？\n",
    "    fea_DE = featureget(OR_fault.loc[i*windowSize+1:(i+1)*windowSize,'DE_time'])\n",
    "    fea_FE = featureget(OR_fault.loc[i*windowSize+1:(i+1)*windowSize,'FE_time'])\n",
    "    fea_FE.extend(['OR'])\n",
    "    fea_DE.extend(fea_FE)\n",
    "    feature_OR.append(fea_DE)\n",
    "\n",
    "#换成数据帧格式\n",
    "feature_OR = pd.DataFrame(feature_OR,columns=full_columns)\n",
    "#提取完的保存路径\n",
    "feature_OR.to_csv('./feature_4/feature_OR.csv',index=False)"
   ]
  }
 ],
 "metadata": {
  "kernelspec": {
   "display_name": "Python 3",
   "language": "python",
   "name": "python3"
  },
  "language_info": {
   "codemirror_mode": {
    "name": "ipython",
    "version": 3
   },
   "file_extension": ".py",
   "mimetype": "text/x-python",
   "name": "python",
   "nbconvert_exporter": "python",
   "pygments_lexer": "ipython3",
   "version": "3.6.4"
  }
 },
 "nbformat": 4,
 "nbformat_minor": 2
}
