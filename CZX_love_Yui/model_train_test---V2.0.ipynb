{
 "cells": [
  {
   "cell_type": "code",
   "execution_count": 7,
   "metadata": {},
   "outputs": [],
   "source": [
    "import lightgbm as lgb\n",
    "import numpy as np\n",
    "import pandas as pd\n",
    "import os\n",
    "from sklearn.externals import joblib\n",
    "from sklearn.metrics import classification_report\n",
    "from sklearn.metrics import f1_score"
   ]
  },
  {
   "cell_type": "code",
   "execution_count": 13,
   "metadata": {
    "collapsed": true
   },
   "outputs": [],
   "source": [
    "feature_selected_list = ['DE_time_mean',\n",
    " 'DE_time_std',\n",
    " 'DE_time_max',\n",
    " 'DE_time_min',\n",
    " 'DE_time_rms',\n",
    " 'DE_time_ptp',\n",
    " 'DE_time_median',\n",
    " 'DE_time_iqr',\n",
    " 'DE_time_pr',\n",
    " 'DE_time_skew',\n",
    " 'DE_time_kurtosis',\n",
    " 'DE_time_var',\n",
    " 'DE_time_amp',\n",
    " 'DE_time_smr',\n",
    " 'DE_time_wavefactor',\n",
    " 'DE_time_peakfactor',\n",
    " 'DE_time_pulse',\n",
    " 'DE_time_margin',\n",
    " 'DE_freq_mean',\n",
    " 'DE_freq_std',\n",
    " 'DE_freq_max',\n",
    " 'DE_freq_min',\n",
    " 'DE_freq_rms',\n",
    " 'DE_freq_median',\n",
    " 'DE_freq_iqr',\n",
    " 'DE_freq_pr',\n",
    " 'DE_freq_f2',\n",
    " 'DE_freq_f3',\n",
    " 'DE_freq_f4',\n",
    " 'DE_freq_f5',\n",
    " 'DE_freq_f6',\n",
    " 'DE_freq_f7',\n",
    " 'DE_freq_f8',\n",
    " 'label']"
   ]
  },
  {
   "cell_type": "markdown",
   "metadata": {},
   "source": [
    "做出训练数据和测试数据"
   ]
  },
  {
   "cell_type": "code",
   "execution_count": 14,
   "metadata": {
    "collapsed": true
   },
   "outputs": [],
   "source": [
    "#feature_all = pd.read_csv('../Data_set/feature_4/feature_all.csv')\n",
    "feature_all = pd.read_csv('../Data_set/feature_4_new/feature_all.csv')\n",
    "train_data = feature_all[feature_selected_list]\n",
    "#feature_selected.to_csv('../Data_set/feature_4/feature_selected.csv',index=False)\n",
    "\n",
    "#path = '../Data_set/feature_test_all'\n",
    "path = '../Data_set/feature_test_all_new'\n",
    "files = os.listdir(path)\n",
    "index = 0\n",
    "for file2select in files:\n",
    "    index = index + 1\n",
    "    dffile = pd.read_csv(path + '/' + file2select)\n",
    "    #特征筛选\n",
    "    dffile = dffile[feature_selected_list[:-1]]\n",
    "    dffile.to_csv('../Data_set/feature_test_new/TEST'+str(index).zfill(2)+'.csv',index=False)  "
   ]
  },
  {
   "cell_type": "markdown",
   "metadata": {},
   "source": [
    "跑模型"
   ]
  },
  {
   "cell_type": "code",
   "execution_count": 15,
   "metadata": {},
   "outputs": [
    {
     "data": {
      "text/plain": [
       "LGBMClassifier(boosting_type='gbdt', class_weight=None, colsample_bytree=1.0,\n",
       "               importance_type='split', learning_rate=0.1, max_depth=-1,\n",
       "               min_child_samples=20, min_child_weight=0.001, min_split_gain=0.0,\n",
       "               n_estimators=100, n_jobs=-1, num_leaves=31, objective=None,\n",
       "               random_state=2019, reg_alpha=0.0, reg_lambda=0.0, silent=True,\n",
       "               subsample=1.0, subsample_for_bin=200000, subsample_freq=0)"
      ]
     },
     "execution_count": 15,
     "metadata": {},
     "output_type": "execute_result"
    }
   ],
   "source": [
    "# 模型初始化，设置random_state保证可复现性，便于观察优化\n",
    "train_data_y = train_data['label']\n",
    "# 除去标签的所有列就是特征\n",
    "train_data_x = train_data.drop(['label'], axis=1)\n",
    "\n",
    "model_lgb_default = lgb.LGBMClassifier(random_state=2019)\n",
    "# 模型训练\n",
    "model_lgb_default.fit(train_data_x, train_data_y)\n",
    "#joblib.dump(model_lgb_default, './model/lightgbm1_2.model')                 #要改的地方"
   ]
  },
  {
   "cell_type": "markdown",
   "metadata": {},
   "source": [
    "测试模型"
   ]
  },
  {
   "cell_type": "code",
   "execution_count": 16,
   "metadata": {
    "collapsed": true
   },
   "outputs": [],
   "source": [
    "model = model_lgb_default\n",
    "\n",
    "#测试集文件路径\n",
    "path = '../Data_set/feature_test_new'\n",
    "files = os.listdir(path)\n",
    "index = 0\n",
    "\n",
    "result = pd.DataFrame()\n",
    "\n",
    "for test_file in files:\n",
    "    predict_res = pd.DataFrame()\n",
    "    index = index + 1 \n",
    "    dftest_file = pd.read_csv(path + '/' + test_file)\n",
    "    predict = model.predict(dftest_file)\n",
    "    predict_res['label'] = predict\n",
    "    predict_res['filename'] = 'TEST'+str(index).zfill(2)\n",
    "    result = pd.concat([result,predict_res])\n",
    "\n",
    "result.to_csv('../Data_set/result/result1_4.csv',index=False)                 #要改的地方2"
   ]
  },
  {
   "cell_type": "markdown",
   "metadata": {},
   "source": [
    "打分"
   ]
  },
  {
   "cell_type": "code",
   "execution_count": 17,
   "metadata": {},
   "outputs": [
    {
     "data": {
      "text/plain": [
       "94.48675475137641"
      ]
     },
     "execution_count": 17,
     "metadata": {},
     "output_type": "execute_result"
    }
   ],
   "source": [
    "#res = pd.read_csv('../Data_set/result/result1_2.csv')                            #要改的地方3\n",
    "\n",
    "switch ={'TEST01':1,\n",
    "         'TEST02':1,\n",
    "         'TEST03':3,   \n",
    "         'TEST04':2,\n",
    "         'TEST05':2,  \n",
    "         'TEST06':2,\n",
    "         'TEST07':2,  \n",
    "         'TEST08':0,\n",
    "         'TEST09':2,\n",
    "         'TEST10':2,    \n",
    "         'TEST11':2,\n",
    "         'TEST12':3,\n",
    "         'TEST13':3,\n",
    "         'TEST14':1,}\n",
    "\n",
    "y_true = []\n",
    "for ans in result['filename']:\n",
    "    y_true.append(switch.get(ans))\n",
    "\n",
    "y_pred = list(result['label'])\n",
    "\n",
    "#y_pred, y_true =[1,0,1,0], [0,0,1,0]\n",
    "Answer = classification_report(y_true=y_true, y_pred=y_pred, digits=3, output_dict = True)\n",
    "#Answer['0']['f1-score']\n",
    "\n",
    "score = (0.3*(Answer['1']['f1-score']+Answer['2']['f1-score']+Answer['3']['f1-score'])+0.1*Answer['0']['f1-score'])*100\n",
    "score"
   ]
  }
 ],
 "metadata": {
  "kernelspec": {
   "display_name": "Python 3",
   "language": "python",
   "name": "python3"
  },
  "language_info": {
   "codemirror_mode": {
    "name": "ipython",
    "version": 3
   },
   "file_extension": ".py",
   "mimetype": "text/x-python",
   "name": "python",
   "nbconvert_exporter": "python",
   "pygments_lexer": "ipython3",
   "version": "3.6.4"
  }
 },
 "nbformat": 4,
 "nbformat_minor": 2
}
