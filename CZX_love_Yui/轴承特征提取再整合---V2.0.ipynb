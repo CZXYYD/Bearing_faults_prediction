{
 "cells": [
  {
   "cell_type": "markdown",
   "metadata": {},
   "source": [
    "之前是先拼接好数据，分为4个文件，每个文件依次按照同样的时间片特征提取，但是每个数据采集时的工况（rpm）都不一样，现在尝试先对每个文件做完特征提取再合并。"
   ]
  },
  {
   "cell_type": "code",
   "execution_count": 1,
   "metadata": {
    "collapsed": true
   },
   "outputs": [],
   "source": [
    "import pandas as pd\n",
    "import numpy as np\n",
    "import os\n",
    "from scipy import stats,fftpack,signal\n",
    "import math\n",
    "from pywt import wavedec"
   ]
  },
  {
   "cell_type": "code",
   "execution_count": 2,
   "metadata": {
    "collapsed": true
   },
   "outputs": [],
   "source": [
    "df_out_columns = ['time_mean','time_std','time_max','time_min','time_rms','time_ptp','time_median','time_iqr','time_pr','time_skew','time_kurtosis','time_var','time_amp',\n",
    "                    'time_smr','time_wavefactor','time_peakfactor','time_pulse','time_margin','freq_mean','freq_std','freq_max','freq_min','freq_rms','freq_median',\n",
    "                    'freq_iqr','freq_pr','freq_f2','freq_f3','freq_f4','freq_f5','freq_f6','freq_f7','freq_f8']\n",
    "#,'ener_cA5','ener_cD1','ener_cD2','ener_cD3','ener_cD4','ener_cD5','ratio_cA5','ratio_cD1','ratio_cD2','ratio_cD3','ratio_cD4','ratio_cD5'\n",
    "\n",
    "DE_columns = ['DE_' + i for i in df_out_columns]\n",
    "FE_columns = ['FE_' + i for i in df_out_columns]\n",
    "label_columns = ['label']\n",
    "full_columns = DE_columns + FE_columns + label_columns"
   ]
  },
  {
   "cell_type": "markdown",
   "metadata": {},
   "source": [
    "### 特征提取函数"
   ]
  },
  {
   "cell_type": "code",
   "execution_count": 3,
   "metadata": {
    "collapsed": true
   },
   "outputs": [],
   "source": [
    "#2.0版本特征提取函数\n",
    "def featureget(df_line):\n",
    "    feature_list = []\n",
    "    #----------  time-domain feature,18\n",
    "    #依次为均值，标准差，最大值，最小值，均方根，峰峰值，中位数，四分位差，百分位差，偏度，\n",
    "    #峰度，方差，整流平均值，方根幅值，波形因子，峰值因子，脉冲值，裕度\n",
    "    time_mean = df_line.mean()\n",
    "    time_std = df_line.std()\n",
    "    time_max = df_line.max()\n",
    "    time_min = df_line.min()\n",
    "    time_rms = np.sqrt(np.square(df_line).mean())\n",
    "    time_ptp = df_line.ptp()\n",
    "    time_median = np.median(df_line)\n",
    "    time_iqr = np.percentile(df_line,75)-np.percentile(df_line,25)\n",
    "    time_pr = np.percentile(df_line,90)-np.percentile(df_line,10)\n",
    "    time_skew = stats.skew(df_line)\n",
    "    time_kurtosis = stats.kurtosis(df_line)\n",
    "    time_var = np.var(df_line)\n",
    "    time_amp = np.abs(df_line).mean()\n",
    "    time_smr = np.square(np.sqrt(np.abs(df_line)).mean())\n",
    "    #下面四个特征需要注意分母为0或接近0问题，可能会发生报错\n",
    "    time_wavefactor = time_rms/time_amp\n",
    "    time_peakfactor = time_max/time_rms\n",
    "    time_pulse = time_max/time_amp\n",
    "    time_margin = time_max/time_smr\n",
    "    #----------  freq-domain feature,15\n",
    "    #采样频率25600Hz\n",
    "    df_fftline = fftpack.fft(df_line)\n",
    "    freq_fftline = fftpack.fftfreq(len(df_line),1/2000)\n",
    "    df_fftline = abs(df_fftline[freq_fftline>=0])\n",
    "    freq_fftline = freq_fftline[freq_fftline>=0]\n",
    "    #基本特征,依次为均值，标准差，最大值，最小值，均方根，中位数，四分位差，百分位差\n",
    "    freq_mean = df_fftline.mean()\n",
    "    freq_std = df_fftline.std()\n",
    "    freq_max = df_fftline.max()\n",
    "    freq_min = df_fftline.min()\n",
    "    freq_rms = np.sqrt(np.square(df_fftline).mean())\n",
    "    freq_median = np.median(df_fftline)\n",
    "    freq_iqr = np.percentile(df_fftline,75)-np.percentile(df_fftline,25)\n",
    "    freq_pr = np.percentile(df_fftline,90)-np.percentile(df_fftline,10)\n",
    "    #f2 f3 f4反映频谱集中程度\n",
    "    freq_f2 = np.square((df_fftline-freq_mean)).sum()/(len(df_fftline)-1)\n",
    "    freq_f3 = pow((df_fftline-freq_mean),3).sum()/(len(df_fftline)*pow(freq_f2,1.5))\n",
    "    freq_f4 = pow((df_fftline-freq_mean),4).sum()/(len(df_fftline)*pow(freq_f2,2))\n",
    "    #f5 f6 f7 f8反映主频带位置\n",
    "    freq_f5 = np.multiply(freq_fftline,df_fftline).sum()/df_fftline.sum()\n",
    "    freq_f6 = np.sqrt(np.multiply(np.square(freq_fftline),df_fftline).sum())/df_fftline.sum()\n",
    "    freq_f7 = np.sqrt(np.multiply(pow(freq_fftline,4),df_fftline).sum())/np.multiply(np.square(freq_fftline),df_fftline).sum()\n",
    "    freq_f8 = np.multiply(np.square(freq_fftline),df_fftline).sum()/np.sqrt(np.multiply(pow(freq_fftline,4),df_fftline).sum()*df_fftline.sum())\n",
    "    '''这里会报错5级小波变换太高，先不用\n",
    "    #----------  timefreq-domain feature,12\n",
    "    #5级小波变换，最后输出6个能量特征和其归一化能量特征\n",
    "    cA5, cD5, cD4, cD3, cD2, cD1 = wavedec(df_line, 'db10', level=5)\n",
    "    ener_cA5 = np.square(cA5).sum()\n",
    "    ener_cD5 = np.square(cD5).sum()\n",
    "    ener_cD4 = np.square(cD4).sum()\n",
    "    ener_cD3 = np.square(cD3).sum()\n",
    "    ener_cD2 = np.square(cD2).sum()\n",
    "    ener_cD1 = np.square(cD1).sum()\n",
    "    ener = ener_cA5 + ener_cD1 + ener_cD2 + ener_cD3 + ener_cD4 + ener_cD5\n",
    "    ratio_cA5 = ener_cA5/ener\n",
    "    ratio_cD5 = ener_cD5/ener\n",
    "    ratio_cD4 = ener_cD4/ener\n",
    "    ratio_cD3 = ener_cD3/ener\n",
    "    ratio_cD2 = ener_cD2/ener\n",
    "    ratio_cD1 = ener_cD1/ener\n",
    "    '''\n",
    "    feature_list.extend([time_mean,time_std,time_max,time_min,time_rms,time_ptp,time_median,time_iqr,time_pr,time_skew,time_kurtosis,time_var,time_amp,\n",
    "                         time_smr,time_wavefactor,time_peakfactor,time_pulse,time_margin,freq_mean,freq_std,freq_max,freq_min,freq_rms,freq_median,\n",
    "                         freq_iqr,freq_pr,freq_f2,freq_f3,freq_f4,freq_f5,freq_f6,freq_f7,freq_f8]) \n",
    "    #,ener_cA5,ener_cD1,ener_cD2,ener_cD3,ener_cD4,ener_cD5,ratio_cA5,ratio_cD1,ratio_cD2,ratio_cD3,ratio_cD4,ratio_cD5\n",
    "    return feature_list"
   ]
  },
  {
   "cell_type": "code",
   "execution_count": 4,
   "metadata": {
    "collapsed": true
   },
   "outputs": [],
   "source": [
    "sampleRate = 12000   #采样率"
   ]
  },
  {
   "cell_type": "markdown",
   "metadata": {},
   "source": [
    "### 训练集数据 约定normal(NORMAL), ball(B), outer race(OR), inner race(IR)的预测输出标签为0, 1, 2, 3"
   ]
  },
  {
   "cell_type": "code",
   "execution_count": 15,
   "metadata": {
    "collapsed": true
   },
   "outputs": [],
   "source": [
    "#normal数据没有rpm值，在这里添加\n",
    "NORMAL02 = pd.read_csv('../Data_set/train/NORMAL02.csv')\n",
    "NORMAL02['RPM'] = 1772\n",
    "NORMAL02.to_csv('../Data_set/train/NORMAL02.csv')"
   ]
  },
  {
   "cell_type": "code",
   "execution_count": 16,
   "metadata": {
    "collapsed": true
   },
   "outputs": [],
   "source": [
    "feature_NORMAL = []\n",
    "for i in range(2):\n",
    "    NORMAL = pd.read_csv('../Data_set/train/NORMAL0'+str(i+1)+'.csv')\n",
    "    windowSize_NORMAL = 60*sampleRate/NORMAL['RPM'][0]     #时间窗长度计算公式，为每转一圈采样的数据量\n",
    "    for i in range(0,int(len(NORMAL)/windowSize_NORMAL)):  #int(len(B_fault)/windowSize)              #残余数据省略了，能不能改进？\n",
    "        fea_DE = featureget(NORMAL.loc[i*windowSize_NORMAL+1:(i+1)*windowSize_NORMAL,'DE_time'])\n",
    "        fea_FE = featureget(NORMAL.loc[i*windowSize_NORMAL+1:(i+1)*windowSize_NORMAL,'FE_time'])\n",
    "        fea_FE.extend('0')\n",
    "        fea_DE.extend(fea_FE)\n",
    "        feature_NORMAL.append(fea_DE)\n",
    "feature_NORMAL = pd.DataFrame(feature_NORMAL,columns=full_columns)"
   ]
  },
  {
   "cell_type": "code",
   "execution_count": 5,
   "metadata": {
    "collapsed": true
   },
   "outputs": [],
   "source": [
    "feature_B = []\n",
    "for i in range(6):\n",
    "    B_fault = pd.read_csv('../Data_set/train/B0'+str(i+1)+'.csv')\n",
    "    windowSize_B = 60*sampleRate/B_fault['RPM'][0]     #时间窗长度计算公式，为每转一圈采样的数据量\n",
    "    for i in range(0,int(len(B_fault)/windowSize_B)):  #int(len(B_fault)/windowSize)              #残余数据省略了，能不能改进？\n",
    "        fea_DE = featureget(B_fault.loc[i*windowSize_B+1:(i+1)*windowSize_B,'DE_time'])\n",
    "        fea_FE = featureget(B_fault.loc[i*windowSize_B+1:(i+1)*windowSize_B,'FE_time'])\n",
    "        fea_FE.extend('1')\n",
    "        fea_DE.extend(fea_FE)\n",
    "        feature_B.append(fea_DE)\n",
    "feature_B = pd.DataFrame(feature_B,columns=full_columns)"
   ]
  },
  {
   "cell_type": "code",
   "execution_count": 21,
   "metadata": {
    "collapsed": true
   },
   "outputs": [],
   "source": [
    "feature_OR = []\n",
    "for i in range(14):\n",
    "    OR_fault = pd.read_csv('../Data_set/train/OR'+str(i+1).zfill(2)+'.csv')\n",
    "    windowSize_OR = 60*sampleRate/OR_fault['RPM'][0]     #时间窗长度计算公式，为每转一圈采样的数据量\n",
    "    for i in range(0,int(len(OR_fault)/windowSize_OR)):  #int(len(B_fault)/windowSize)              #残余数据省略了，能不能改进？\n",
    "        fea_DE = featureget(OR_fault.loc[i*windowSize_OR+1:(i+1)*windowSize_OR,'DE_time'])\n",
    "        fea_FE = featureget(OR_fault.loc[i*windowSize_OR+1:(i+1)*windowSize_OR,'FE_time'])\n",
    "        fea_FE.extend('2')\n",
    "        fea_DE.extend(fea_FE)\n",
    "        feature_OR.append(fea_DE)\n",
    "feature_OR = pd.DataFrame(feature_OR,columns=full_columns)"
   ]
  },
  {
   "cell_type": "code",
   "execution_count": 22,
   "metadata": {
    "collapsed": true
   },
   "outputs": [],
   "source": [
    "feature_IR = []\n",
    "for i in range(6):\n",
    "    IR_fault = pd.read_csv('../Data_set/train/IR0'+str(i+1)+'.csv')\n",
    "    windowSize_IR = 60*sampleRate/IR_fault['RPM'][0]     #时间窗长度计算公式，为每转一圈采样的数据量\n",
    "    for i in range(0,int(len(IR_fault)/windowSize_IR)):  #int(len(B_fault)/windowSize)              #残余数据省略了，能不能改进？\n",
    "        fea_DE = featureget(IR_fault.loc[i*windowSize_IR+1:(i+1)*windowSize_IR,'DE_time'])\n",
    "        fea_FE = featureget(IR_fault.loc[i*windowSize_IR+1:(i+1)*windowSize_IR,'FE_time'])\n",
    "        fea_FE.extend('3')\n",
    "        fea_DE.extend(fea_FE)\n",
    "        feature_IR.append(fea_DE)\n",
    "feature_IR = pd.DataFrame(feature_IR,columns=full_columns)"
   ]
  },
  {
   "cell_type": "code",
   "execution_count": 23,
   "metadata": {
    "collapsed": true
   },
   "outputs": [],
   "source": [
    "frames = [feature_B,feature_IR,feature_NORMAL,feature_OR]\n",
    "feature_all = pd.concat(frames)\n",
    "feature_all.to_csv('../Data_set/feature_4_new/feature_all.csv')"
   ]
  },
  {
   "cell_type": "markdown",
   "metadata": {},
   "source": [
    "### 测试集数据同样操作"
   ]
  },
  {
   "cell_type": "markdown",
   "metadata": {},
   "source": [
    "第一次测试集"
   ]
  },
  {
   "cell_type": "code",
   "execution_count": 24,
   "metadata": {
    "collapsed": true
   },
   "outputs": [],
   "source": [
    "test1 = pd.read_csv('../Data_set/test/TEST01.csv')\n",
    "test2 = pd.read_csv('../Data_set/test/TEST02.csv')\n",
    "test3 = pd.read_csv('../Data_set/test/TEST03.csv')\n",
    "test4 = pd.read_csv('../Data_set/test/TEST04.csv')\n",
    "test5 = pd.read_csv('../Data_set/test/TEST05.csv')\n",
    "test6 = pd.read_csv('../Data_set/test/TEST06.csv')\n",
    "test7 = pd.read_csv('../Data_set/test/TEST07.csv')\n",
    "test8 = pd.read_csv('../Data_set/test/TEST08.csv')\n",
    "test9 = pd.read_csv('../Data_set/test/TEST09.csv')\n",
    "test10 = pd.read_csv('../Data_set/test/TEST10.csv')\n",
    "test11 = pd.read_csv('../Data_set/test/TEST11.csv')\n",
    "test12 = pd.read_csv('../Data_set/test/TEST12.csv')\n",
    "test13 = pd.read_csv('../Data_set/test/TEST13.csv')\n",
    "test14 = pd.read_csv('../Data_set/test/TEST14.csv')"
   ]
  },
  {
   "cell_type": "code",
   "execution_count": 25,
   "metadata": {
    "collapsed": true
   },
   "outputs": [],
   "source": [
    "#normal数据没有rpm值，在这里添加\n",
    "test8['RPM'] = 1750"
   ]
  },
  {
   "cell_type": "code",
   "execution_count": 26,
   "metadata": {
    "collapsed": true
   },
   "outputs": [],
   "source": [
    "index = 0\n",
    "sampleRate = 12000\n",
    "for test in [test1,test2,test3,test4,test5,test6,test7,test8,test9,test10,test11,test12,test13,test14]:\n",
    "    feature_test = []\n",
    "    index = index + 1\n",
    "    windowSize = 60*sampleRate/test['RPM'][0] \n",
    "    for i in range(0,int(len(test)/windowSize)):  #int(len(B_fault)/windowSize)              #残余数据省略了，能不能改进？\n",
    "        fea_DE = featureget(test.loc[i*windowSize+1:(i+1)*windowSize,'DE_time'])\n",
    "        fea_FE = featureget(test.loc[i*windowSize+1:(i+1)*windowSize,'FE_time'])\n",
    "        fea_DE.extend(fea_FE)\n",
    "        feature_test.append(fea_DE)\n",
    "    #换成数据帧格式\n",
    "    feature_test = pd.DataFrame(feature_test,columns=full_columns[:-1])\n",
    "    \n",
    "    feature_test.to_csv('../Data_set/feature_test_all_new/TEST'+str(index).zfill(2)+'_all.csv',index=False)"
   ]
  },
  {
   "cell_type": "markdown",
   "metadata": {},
   "source": [
    "### 封装到微信小程序的模块"
   ]
  },
  {
   "cell_type": "code",
   "execution_count": null,
   "metadata": {
    "collapsed": true
   },
   "outputs": [],
   "source": []
  }
 ],
 "metadata": {
  "kernelspec": {
   "display_name": "Python 3",
   "language": "python",
   "name": "python3"
  },
  "language_info": {
   "codemirror_mode": {
    "name": "ipython",
    "version": 3
   },
   "file_extension": ".py",
   "mimetype": "text/x-python",
   "name": "python",
   "nbconvert_exporter": "python",
   "pygments_lexer": "ipython3",
   "version": "3.6.4"
  }
 },
 "nbformat": 4,
 "nbformat_minor": 2
}
