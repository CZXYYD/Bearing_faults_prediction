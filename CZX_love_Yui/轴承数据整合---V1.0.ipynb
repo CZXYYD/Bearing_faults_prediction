{
 "cells": [
  {
   "cell_type": "markdown",
   "metadata": {},
   "source": [
    "### 目标：1.数据整合 2.特征提取"
   ]
  },
  {
   "cell_type": "code",
   "execution_count": 1,
   "metadata": {
    "collapsed": true
   },
   "outputs": [],
   "source": [
    "import pandas as pd"
   ]
  },
  {
   "cell_type": "markdown",
   "metadata": {},
   "source": [
    "1.csv文件整合"
   ]
  },
  {
   "cell_type": "code",
   "execution_count": 2,
   "metadata": {
    "collapsed": true
   },
   "outputs": [],
   "source": [
    "data_B = pd.DataFrame()\n",
    "for i in range(6):\n",
    "    data = pd.read_csv('../Data_set/train/B0'+str(i+1)+'.csv')\n",
    "    #data[['DE_time','FE_time']]\n",
    "    data['fault'] = 'B'   #加一列标签   后来发现没啥用\n",
    "    data = pd.DataFrame(data)\n",
    "    data_B = pd.concat([data_B,data])\n",
    "data_B.to_csv('../Data_set/merge_4/B_fault.csv',columns=['DE_time','FE_time','RPM','fault'],index = 0,header = 1)\n",
    "#保存指定的列到新的csv文件，index=0表示不为每一行自动编号，header=1表示行首有字段名称"
   ]
  },
  {
   "cell_type": "code",
   "execution_count": 3,
   "metadata": {
    "collapsed": true
   },
   "outputs": [],
   "source": [
    "data_IR = pd.DataFrame()\n",
    "for i in range(6):\n",
    "    data = pd.read_csv('../Data_set/train/IR0'+str(i+1)+'.csv')\n",
    "    #data[['DE_time','FE_time']]\n",
    "    data['fault'] = 'IR'   #加一列标签\n",
    "    data = pd.DataFrame(data)\n",
    "    data_IR = pd.concat([data_IR,data])\n",
    "data_IR.to_csv('../Data_set/merge_4/IR_fault.csv',columns=['DE_time','FE_time','RPM','fault'],index = 0,header = 1)"
   ]
  },
  {
   "cell_type": "code",
   "execution_count": 4,
   "metadata": {
    "collapsed": true
   },
   "outputs": [],
   "source": [
    "data_N = pd.DataFrame()\n",
    "for i in range(2):\n",
    "    data = pd.read_csv('../Data_set/train/NORMAL0'+str(i+1)+'.csv')\n",
    "    #data[['DE_time','FE_time']]\n",
    "    data['fault'] = 'NORMAL'   #加一列标签\n",
    "    data = pd.DataFrame(data)\n",
    "    data_N = pd.concat([data_N,data])\n",
    "data_N.to_csv('../Data_set/merge_4/NORMAL.csv',columns=['DE_time','FE_time','RPM','fault'],index = 0,header = 1)"
   ]
  },
  {
   "cell_type": "code",
   "execution_count": 5,
   "metadata": {
    "collapsed": true
   },
   "outputs": [],
   "source": [
    "data_OR = pd.DataFrame()\n",
    "for i in range(14):\n",
    "    data = pd.read_csv('../Data_set/train/OR'+str(i+1).zfill(2)+'.csv')\n",
    "    #data[['DE_time','FE_time']]\n",
    "    data['fault'] = 'OR'   #加一列标签\n",
    "    data = pd.DataFrame(data)\n",
    "    data_OR = pd.concat([data_OR,data])\n",
    "data_OR.to_csv('../Data_set/merge_4/OR_fault.csv',columns=['DE_time','FE_time','RPM','fault'],index = 0,header = 1)"
   ]
  },
  {
   "cell_type": "code",
   "execution_count": 79,
   "metadata": {},
   "outputs": [
    {
     "data": {
      "text/plain": [
       "[87796, 87673, 545880, 102543]"
      ]
     },
     "execution_count": 79,
     "metadata": {},
     "output_type": "execute_result"
    }
   ],
   "source": [
    "length = [len(data_B),len(data_IR),len(data_N),len(data_OR)]\n",
    "length"
   ]
  },
  {
   "cell_type": "markdown",
   "metadata": {},
   "source": [
    "方便管理，手动将上面四个csv文件移动到train同目录下的merge_4文件夹里面"
   ]
  }
 ],
 "metadata": {
  "kernelspec": {
   "display_name": "Python 3",
   "language": "python",
   "name": "python3"
  },
  "language_info": {
   "codemirror_mode": {
    "name": "ipython",
    "version": 3
   },
   "file_extension": ".py",
   "mimetype": "text/x-python",
   "name": "python",
   "nbconvert_exporter": "python",
   "pygments_lexer": "ipython3",
   "version": "3.6.4"
  }
 },
 "nbformat": 4,
 "nbformat_minor": 2
}
