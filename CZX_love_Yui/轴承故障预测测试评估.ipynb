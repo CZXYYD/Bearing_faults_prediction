{
 "cells": [
  {
   "cell_type": "code",
   "execution_count": 28,
   "metadata": {
    "collapsed": true
   },
   "outputs": [],
   "source": [
    "from sklearn.externals import joblib\n",
    "import pandas as pd\n",
    "import numpy as np\n",
    "import os\n",
    "from sklearn.metrics import classification_report\n",
    "from sklearn.metrics import f1_score"
   ]
  },
  {
   "cell_type": "markdown",
   "metadata": {},
   "source": [
    "导入模型并测试,输出评估结果到Data_set/Results"
   ]
  },
  {
   "cell_type": "code",
   "execution_count": 29,
   "metadata": {
    "collapsed": true
   },
   "outputs": [],
   "source": [
    "model = joblib.load('./model/lightgbm1_2.model')               #要改的地方1\n",
    "\n",
    "#测试集文件路径\n",
    "path = '../Data_set/feature_test'\n",
    "files = os.listdir(path)\n",
    "\n",
    "result = pd.DataFrame()\n",
    "index = 0\n",
    "for test_file in files:\n",
    "    predict_res = pd.DataFrame()\n",
    "    index = index + 1 \n",
    "    dftest_file = pd.read_csv(path + '/' + test_file)\n",
    "    predict = model.predict(dftest_file)\n",
    "    predict_res['label'] = predict\n",
    "    predict_res['filename'] = 'TEST'+str(index).zfill(2)\n",
    "    result = pd.concat([result,predict_res])\n",
    "\n",
    "result.to_csv('../Data_set/result/result1_2.csv',index=False)                 #要改的地方2"
   ]
  },
  {
   "cell_type": "markdown",
   "metadata": {},
   "source": [
    "### 打分函数"
   ]
  },
  {
   "cell_type": "markdown",
   "metadata": {},
   "source": [
    "第一次提交 0326 得分81.71"
   ]
  },
  {
   "cell_type": "code",
   "execution_count": 30,
   "metadata": {},
   "outputs": [
    {
     "data": {
      "text/plain": [
       "84.65259032102647"
      ]
     },
     "execution_count": 30,
     "metadata": {},
     "output_type": "execute_result"
    }
   ],
   "source": [
    "res = pd.read_csv('../Data_set/result/result1_2.csv')                            #要改的地方3\n",
    "\n",
    "switch ={'TEST01':1,\n",
    "         'TEST02':1,\n",
    "         'TEST03':3,   #不确定\n",
    "         'TEST04':2,\n",
    "         'TEST05':2,  #不确定\n",
    "         'TEST06':2,\n",
    "         'TEST07':2,  #\n",
    "         'TEST08':0,\n",
    "         'TEST09':2,\n",
    "         'TEST10':2,    #\n",
    "         'TEST11':2,\n",
    "         'TEST12':3,\n",
    "         'TEST13':3,\n",
    "         'TEST14':1,}\n",
    "\n",
    "y_true = []\n",
    "for ans in res['filename']:\n",
    "    y_true.append(switch.get(ans))\n",
    "\n",
    "y_pred = list(res['label'])\n",
    "\n",
    "#y_pred, y_true =[1,0,1,0], [0,0,1,0]\n",
    "Answer = classification_report(y_true=y_true, y_pred=y_pred, digits=3, output_dict = True)\n",
    "#Answer['0']['f1-score']\n",
    "\n",
    "score = (0.3*(Answer['1']['f1-score']+Answer['2']['f1-score']+Answer['3']['f1-score'])+0.1*Answer['0']['f1-score'])*100\n",
    "\n",
    "score"
   ]
  }
 ],
 "metadata": {
  "kernelspec": {
   "display_name": "Python 3",
   "language": "python",
   "name": "python3"
  },
  "language_info": {
   "codemirror_mode": {
    "name": "ipython",
    "version": 3
   },
   "file_extension": ".py",
   "mimetype": "text/x-python",
   "name": "python",
   "nbconvert_exporter": "python",
   "pygments_lexer": "ipython3",
   "version": "3.6.4"
  }
 },
 "nbformat": 4,
 "nbformat_minor": 2
}
