{
 "cells": [
  {
   "cell_type": "code",
   "execution_count": 2,
   "metadata": {},
   "outputs": [
    {
     "name": "stderr",
     "output_type": "stream",
     "text": [
      "E:\\anaconda3\\lib\\site-packages\\sklearn\\externals\\joblib\\__init__.py:15: FutureWarning: sklearn.externals.joblib is deprecated in 0.21 and will be removed in 0.23. Please import this functionality directly from joblib, which can be installed with: pip install joblib. If this warning is raised when loading pickled models, you may need to re-serialize those models with scikit-learn 0.21+.\n",
      "  warnings.warn(msg, category=FutureWarning)\n"
     ]
    }
   ],
   "source": [
    "from sklearn.externals import joblib\n",
    "import pandas as pd\n",
    "import numpy as np\n",
    "import os\n",
    "from sklearn.metrics import classification_report\n",
    "from sklearn.metrics import f1_score"
   ]
  },
  {
   "cell_type": "code",
   "execution_count": 8,
   "metadata": {},
   "outputs": [
    {
     "name": "stderr",
     "output_type": "stream",
     "text": [
      "E:\\anaconda3\\lib\\site-packages\\sklearn\\utils\\deprecation.py:144: FutureWarning: The sklearn.preprocessing.label module is  deprecated in version 0.22 and will be removed in version 0.24. The corresponding classes / functions should instead be imported from sklearn.preprocessing. Anything that cannot be imported from sklearn.preprocessing is now part of the private API.\n",
      "  warnings.warn(message, FutureWarning)\n",
      "E:\\anaconda3\\lib\\site-packages\\sklearn\\base.py:318: UserWarning: Trying to unpickle estimator LabelEncoder from version 0.19.1 when using version 0.22.2.post1. This might lead to breaking code or invalid results. Use at your own risk.\n",
      "  UserWarning)\n"
     ]
    }
   ],
   "source": [
    "model = joblib.load('./model/lightgbm1_0.model')"
   ]
  },
  {
   "cell_type": "code",
   "execution_count": 9,
   "metadata": {
    "collapsed": true
   },
   "outputs": [],
   "source": [
    "path = '../Data_set/feature_test'\n",
    "files = os.listdir(path)\n",
    "\n",
    "df = pd.read_csv(path + '/' + files[0])\n",
    "\n",
    "result = pd.DataFrame()\n",
    "index = 0\n",
    "\n",
    "for test_file in files:\n",
    "    #label_res = []\n",
    "    predict_res = pd.DataFrame()\n",
    "    index = index + 1 \n",
    "    dftest_file = pd.read_csv(path + '/' + test_file)\n",
    "    predict = model.predict(dftest_file)\n",
    "    #label_res.append(predict)\n",
    "    #filename_res.append('TEST'+str(index).zfill(2))\n",
    "    #label_res.extend(['TEST'+str(index).zfill(2)])\n",
    "   # predict_res.append(predict)\n",
    "   # predict_res = pd.DataFrame(predict_res)\n",
    "    predict_res['label'] = predict\n",
    "    predict_res['filename'] = 'TEST'+str(index).zfill(2)\n",
    "    result = pd.concat([result,predict_res])\n",
    "    #print(predict_res)"
   ]
  },
  {
   "cell_type": "markdown",
   "metadata": {},
   "source": [
    "输出评估结果到Data_set/Results"
   ]
  },
  {
   "cell_type": "code",
   "execution_count": 12,
   "metadata": {
    "collapsed": true
   },
   "outputs": [],
   "source": [
    "result.to_csv('../Data_set/result/result1_0.csv',index=False)"
   ]
  },
  {
   "cell_type": "markdown",
   "metadata": {},
   "source": [
    "打分函数"
   ]
  },
  {
   "cell_type": "markdown",
   "metadata": {},
   "source": [
    "第一次提交 0326 得分81.71"
   ]
  },
  {
   "cell_type": "code",
   "execution_count": 22,
   "metadata": {},
   "outputs": [
    {
     "data": {
      "text/plain": [
       "0.9951995611027293"
      ]
     },
     "execution_count": 22,
     "metadata": {},
     "output_type": "execute_result"
    }
   ],
   "source": [
    "res = pd.read_csv('../Data_set/result/result1_0.csv')\n",
    "\n",
    "switch ={'TEST01':1,\n",
    "         'TEST02':1,\n",
    "         'TEST03':3,   #不确定\n",
    "         'TEST04':2,\n",
    "         'TEST05':2,  #不确定\n",
    "         'TEST06':2,\n",
    "         'TEST07':2,  #\n",
    "         'TEST08':0,\n",
    "         'TEST09':2,\n",
    "         'TEST10':2,    #\n",
    "         'TEST11':2,\n",
    "         'TEST12':3,\n",
    "         'TEST13':3,\n",
    "         'TEST14':1,}\n",
    "\n",
    "y_true = []\n",
    "for ans in res['filename']:\n",
    "    y_true.append(switch.get(ans))\n",
    "\n",
    "y_pred = list(res['label'])\n",
    "\n",
    "#y_pred, y_true =[1,0,1,0], [0,0,1,0]\n",
    "Answer = classification_report(y_true=y_true, y_pred=y_pred, digits=3, output_dict = True)\n",
    "Answer['0']['f1-score']"
   ]
  },
  {
   "cell_type": "code",
   "execution_count": 20,
   "metadata": {
    "collapsed": true
   },
   "outputs": [],
   "source": [
    "score = (0.3*(Answer['1']['f1-score']+Answer['2']['f1-score']+Answer['3']['f1-score'])+0.1*Answer['0']['f1-score'])*100\n",
    "\n",
    "score"
   ]
  }
 ],
 "metadata": {
  "kernelspec": {
   "display_name": "Python 3",
   "language": "python",
   "name": "python3"
  },
  "language_info": {
   "codemirror_mode": {
    "name": "ipython",
    "version": 3
   },
   "file_extension": ".py",
   "mimetype": "text/x-python",
   "name": "python",
   "nbconvert_exporter": "python",
   "pygments_lexer": "ipython3",
   "version": "3.6.4"
  }
 },
 "nbformat": 4,
 "nbformat_minor": 2
}
