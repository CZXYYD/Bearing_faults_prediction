{
 "cells": [
  {
   "cell_type": "code",
   "execution_count": 2,
   "metadata": {
    "collapsed": true
   },
   "outputs": [],
   "source": [
    "import pandas as pd\n",
    "import numpy as np\n",
    "import os\n",
    "from scipy import stats,fftpack,signal\n",
    "import math\n",
    "from pywt import wavedec\n",
    "import traceback   #?\n",
    "import sys     #?"
   ]
  },
  {
   "cell_type": "code",
   "execution_count": 7,
   "metadata": {
    "collapsed": true
   },
   "outputs": [],
   "source": [
    "#列名定义\n",
    "'''\n",
    "df_out_columns = ['time_mean','time_std','time_max','time_min',\n",
    "                  'time_ptp','time_median','time_iqr','time_pr',\n",
    "                  'time_skew','time_kurtosis','time_var','time_amp',\n",
    "                  'time_smr',\n",
    "                  'time_pulse','time_margin','1X','2X','3X','1XRatio',\n",
    "                  '2XRatio','3XRatio']    #'time_rms','time_wavefactor','time_peakfactor',\n",
    "'''\n",
    "df_out_columns = ['time_mean','time_std','time_max','time_min','time_rms','time_ptp','time_median','time_iqr','time_pr','time_skew','time_kurtosis','time_var','time_amp',\n",
    "                    'time_smr','time_wavefactor','time_peakfactor','time_pulse','time_margin','freq_mean','freq_std','freq_max','freq_min','freq_rms','freq_median',\n",
    "                    'freq_iqr','freq_pr','freq_f2','freq_f3','freq_f4','freq_f5','freq_f6','freq_f7','freq_f8']\n",
    "#,'ener_cA5','ener_cD1','ener_cD2','ener_cD3','ener_cD4','ener_cD5','ratio_cA5','ratio_cD1','ratio_cD2','ratio_cD3','ratio_cD4','ratio_cD5'"
   ]
  },
  {
   "cell_type": "code",
   "execution_count": 8,
   "metadata": {
    "collapsed": true
   },
   "outputs": [],
   "source": [
    "DE_columns = ['DE_' + i for i in df_out_columns]\n",
    "FE_columns = ['FE_' + i for i in df_out_columns]\n",
    "label_columns = ['label']\n",
    "full_columns = DE_columns + FE_columns + label_columns"
   ]
  },
  {
   "cell_type": "code",
   "execution_count": 9,
   "metadata": {
    "collapsed": true
   },
   "outputs": [],
   "source": [
    "#直接白嫖特征提取函数\\\n",
    "\n",
    "'''\n",
    "def featureget(df_line):\n",
    "    #提取时域特征\n",
    "    time_mean = df_line.mean()\n",
    "    time_std = df_line.std()\n",
    "    time_max = df_line.max()\n",
    "    time_min = df_line.min()\n",
    "    #time_rms = np.sqrt(np.square(df_line).mean().astype(np.float64))   #AttributeError: 'float' object has no attribute 'astype'\n",
    "    time_ptp = np.asarray(df_line).ptp()\n",
    "    time_median = np.median(df_line)\n",
    "    time_iqr = np.percentile(df_line,75)-np.percentile(df_line,25)\n",
    "    time_pr = np.percentile(df_line,90)-np.percentile(df_line,10)\n",
    "    time_skew = stats.skew(df_line)\n",
    "    time_kurtosis = stats.kurtosis(df_line)\n",
    "    time_var = np.var(df_line)\n",
    "    time_amp = np.abs(df_line).mean()\n",
    "    time_smr = np.square(np.sqrt(np.abs(df_line).astype(np.float64)).mean())\n",
    "    #下面四个特征需要注意分母为0或接近0问题，可能会发生报错\n",
    "    #time_wavefactor = time_rms/time_amp\n",
    "    #time_peakfactor = time_max/time_rms\n",
    "    time_pulse = time_max/time_amp\n",
    "    time_margin = time_max/time_smr\n",
    "    #提取频域特征倍频能量以及能量占比\n",
    "    plist_raw = np.fft.fft(list(df_line), n=1024)\n",
    "    plist = np.abs(plist_raw)\n",
    "    plist_energy = (np.square(plist)).sum()\n",
    "    #在傅里叶变换结果中，在32点处的幅值为一倍频幅值，64点处幅值为二倍频幅值，96点处为三倍频幅值，因此提取这三处幅值并计算能量占比\n",
    "    return_list = [\n",
    "    time_mean,time_std,time_max,time_min,time_ptp, \n",
    "    time_median,time_iqr,time_pr,time_skew,time_kurtosis,\n",
    "    time_var,time_amp,time_smr,\n",
    "    time_pulse,time_margin,plist[32], plist[64], plist[96],\n",
    "    np.square(plist[32]) / plist_energy,\n",
    "    np.square(plist[64]) / plist_energy,\n",
    "    np.square(plist[96]) / plist_energy\n",
    "    ]                                              #time_rms,time_wavefactor,time_peakfactor,\n",
    "    return return_list\n",
    "'''\n",
    "#2.0版本特征提取函数\n",
    "def featureget(df_line):\n",
    "    feature_list = []\n",
    "    #----------  time-domain feature,18\n",
    "    #依次为均值，标准差，最大值，最小值，均方根，峰峰值，中位数，四分位差，百分位差，偏度，\n",
    "    #峰度，方差，整流平均值，方根幅值，波形因子，峰值因子，脉冲值，裕度\n",
    "    time_mean = df_line.mean()\n",
    "    time_std = df_line.std()\n",
    "    time_max = df_line.max()\n",
    "    time_min = df_line.min()\n",
    "    time_rms = np.sqrt(np.square(df_line).mean())\n",
    "    time_ptp = df_line.ptp()\n",
    "    time_median = np.median(df_line)\n",
    "    time_iqr = np.percentile(df_line,75)-np.percentile(df_line,25)\n",
    "    time_pr = np.percentile(df_line,90)-np.percentile(df_line,10)\n",
    "    time_skew = stats.skew(df_line)\n",
    "    time_kurtosis = stats.kurtosis(df_line)\n",
    "    time_var = np.var(df_line)\n",
    "    time_amp = np.abs(df_line).mean()\n",
    "    time_smr = np.square(np.sqrt(np.abs(df_line)).mean())\n",
    "    #下面四个特征需要注意分母为0或接近0问题，可能会发生报错\n",
    "    time_wavefactor = time_rms/time_amp\n",
    "    time_peakfactor = time_max/time_rms\n",
    "    time_pulse = time_max/time_amp\n",
    "    time_margin = time_max/time_smr\n",
    "    #----------  freq-domain feature,15\n",
    "    #采样频率25600Hz\n",
    "    df_fftline = fftpack.fft(df_line)\n",
    "    freq_fftline = fftpack.fftfreq(len(df_line),1/2000)\n",
    "    df_fftline = abs(df_fftline[freq_fftline>=0])\n",
    "    freq_fftline = freq_fftline[freq_fftline>=0]\n",
    "    #基本特征,依次为均值，标准差，最大值，最小值，均方根，中位数，四分位差，百分位差\n",
    "    freq_mean = df_fftline.mean()\n",
    "    freq_std = df_fftline.std()\n",
    "    freq_max = df_fftline.max()\n",
    "    freq_min = df_fftline.min()\n",
    "    freq_rms = np.sqrt(np.square(df_fftline).mean())\n",
    "    freq_median = np.median(df_fftline)\n",
    "    freq_iqr = np.percentile(df_fftline,75)-np.percentile(df_fftline,25)\n",
    "    freq_pr = np.percentile(df_fftline,90)-np.percentile(df_fftline,10)\n",
    "    #f2 f3 f4反映频谱集中程度\n",
    "    freq_f2 = np.square((df_fftline-freq_mean)).sum()/(len(df_fftline)-1)\n",
    "    freq_f3 = pow((df_fftline-freq_mean),3).sum()/(len(df_fftline)*pow(freq_f2,1.5))\n",
    "    freq_f4 = pow((df_fftline-freq_mean),4).sum()/(len(df_fftline)*pow(freq_f2,2))\n",
    "    #f5 f6 f7 f8反映主频带位置\n",
    "    freq_f5 = np.multiply(freq_fftline,df_fftline).sum()/df_fftline.sum()\n",
    "    freq_f6 = np.sqrt(np.multiply(np.square(freq_fftline),df_fftline).sum())/df_fftline.sum()\n",
    "    freq_f7 = np.sqrt(np.multiply(pow(freq_fftline,4),df_fftline).sum())/np.multiply(np.square(freq_fftline),df_fftline).sum()\n",
    "    freq_f8 = np.multiply(np.square(freq_fftline),df_fftline).sum()/np.sqrt(np.multiply(pow(freq_fftline,4),df_fftline).sum()*df_fftline.sum())\n",
    "    '''这里会报错5级小波变换太高，先不用\n",
    "    #----------  timefreq-domain feature,12\n",
    "    #5级小波变换，最后输出6个能量特征和其归一化能量特征\n",
    "    cA5, cD5, cD4, cD3, cD2, cD1 = wavedec(df_line, 'db10', level=5)\n",
    "    ener_cA5 = np.square(cA5).sum()\n",
    "    ener_cD5 = np.square(cD5).sum()\n",
    "    ener_cD4 = np.square(cD4).sum()\n",
    "    ener_cD3 = np.square(cD3).sum()\n",
    "    ener_cD2 = np.square(cD2).sum()\n",
    "    ener_cD1 = np.square(cD1).sum()\n",
    "    ener = ener_cA5 + ener_cD1 + ener_cD2 + ener_cD3 + ener_cD4 + ener_cD5\n",
    "    ratio_cA5 = ener_cA5/ener\n",
    "    ratio_cD5 = ener_cD5/ener\n",
    "    ratio_cD4 = ener_cD4/ener\n",
    "    ratio_cD3 = ener_cD3/ener\n",
    "    ratio_cD2 = ener_cD2/ener\n",
    "    ratio_cD1 = ener_cD1/ener\n",
    "    '''\n",
    "    feature_list.extend([time_mean,time_std,time_max,time_min,time_rms,time_ptp,time_median,time_iqr,time_pr,time_skew,time_kurtosis,time_var,time_amp,\n",
    "                         time_smr,time_wavefactor,time_peakfactor,time_pulse,time_margin,freq_mean,freq_std,freq_max,freq_min,freq_rms,freq_median,\n",
    "                         freq_iqr,freq_pr,freq_f2,freq_f3,freq_f4,freq_f5,freq_f6,freq_f7,freq_f8]) \n",
    "    #,ener_cA5,ener_cD1,ener_cD2,ener_cD3,ener_cD4,ener_cD5,ratio_cA5,ratio_cD1,ratio_cD2,ratio_cD3,ratio_cD4,ratio_cD5\n",
    "    return feature_list"
   ]
  },
  {
   "cell_type": "code",
   "execution_count": 26,
   "metadata": {
    "collapsed": true
   },
   "outputs": [],
   "source": [
    "sampleRate = 12000   #采样率"
   ]
  },
  {
   "cell_type": "code",
   "execution_count": null,
   "metadata": {
    "collapsed": true
   },
   "outputs": [],
   "source": [
    "#约定normal(NORMAL), ball(B), outer race(OR), inner race(IR)的预测输出标签为0, 1, 2, 3\n",
    "\n",
    "####################################################################################################################\n",
    "#特征提取的文件路径  B\n",
    "B_fault = pd.read_csv('../Data_set/merge_4/B_fault.csv')\n",
    "\n",
    "feature_B = []\n",
    "windowSize_B = 60*sampleRate/B_fault['RPM'][0]     #时间窗长度计算公式，为每转一圈采样的数据量\n",
    "for i in range(0,int(len(B_fault)/windowSize_B)):  #int(len(B_fault)/windowSize)              #残余数据省略了，能不能改进？\n",
    "    fea_DE = featureget(B_fault.loc[i*windowSize_B+1:(i+1)*windowSize_B,'DE_time'])\n",
    "    fea_FE = featureget(B_fault.loc[i*windowSize_B+1:(i+1)*windowSize_B,'FE_time'])\n",
    "    fea_FE.extend('1')\n",
    "    fea_DE.extend(fea_FE)\n",
    "    feature_B.append(fea_DE)\n",
    "\n",
    "#换成数据帧格式\n",
    "feature_B = pd.DataFrame(feature_B,columns=full_columns)\n",
    "\n",
    "\n",
    "####################################################################################################################\n",
    "#特征提取的文件路径    IR\n",
    "IR_fault = pd.read_csv('../Data_set/merge_4/IR_fault.csv')\n",
    "\n",
    "feature_IR = []\n",
    "windowSize_IR = 60*sampleRate/IR_fault['RPM'][0]     #时间窗长度计算公式，为每转一圈采样的数据量\n",
    "for i in range(0,int(len(IR_fault)/windowSize_IR)):  #int(len(B_fault)/windowSize)              #残余数据省略了，能不能改进？\n",
    "    fea_DE = featureget(IR_fault.loc[i*windowSize_IR+1:(i+1)*windowSize_IR,'DE_time'])\n",
    "    fea_FE = featureget(IR_fault.loc[i*windowSize_IR+1:(i+1)*windowSize_IR,'FE_time'])\n",
    "    fea_FE.extend('3')\n",
    "    fea_DE.extend(fea_FE)\n",
    "    feature_IR.append(fea_DE)\n",
    "    \n",
    "#换成数据帧格式\n",
    "feature_IR = pd.DataFrame(feature_IR,columns=full_columns)\n",
    "\n",
    "\n",
    "###############################################################################################################\n",
    "#特征提取的文件路径    NORMAL\n",
    "NORMAL = pd.read_csv('../Data_set/merge_4/NORMAL.csv')\n",
    "\n",
    "feature_NORMAL = []\n",
    "windowSize_NORMAL = 60*sampleRate/NORMAL['RPM'][0]     #时间窗长度计算公式，为每转一圈采样的数据量\n",
    "for i in range(0,int(len(NORMAL)/windowSize_NORMAL)):  #int(len(B_fault)/windowSize)              #残余数据省略了，能不能改进？\n",
    "    fea_DE = featureget(NORMAL.loc[i*windowSize_NORMAL+1:(i+1)*windowSize_NORMAL,'DE_time'])\n",
    "    fea_FE = featureget(NORMAL.loc[i*windowSize_NORMAL+1:(i+1)*windowSize_NORMAL,'FE_time'])\n",
    "    fea_FE.extend('0') \n",
    "    fea_DE.extend(fea_FE)\n",
    "    feature_NORMAL.append(fea_DE)\n",
    "\n",
    "#换成数据帧格式\n",
    "feature_NORMAL = pd.DataFrame(feature_NORMAL,columns=full_columns)\n",
    "\n",
    "\n",
    "##################################################################################################################################\n",
    "#特征提取的文件路径    OR\n",
    "OR_fault = pd.read_csv('../Data_set/merge_4/OR_fault.csv')\n",
    "\n",
    "feature_OR = []\n",
    "windowSize_OR = 60*sampleRate/OR_fault['RPM'][0]     #时间窗长度计算公式，为每转一圈采样的数据量\n",
    "for i in range(0,int(len(OR_fault)/windowSize_OR)):  #int(len(B_fault)/windowSize)              #残余数据省略了，能不能改进？\n",
    "    fea_DE = featureget(OR_fault.loc[i*windowSize_OR+1:(i+1)*windowSize_OR,'DE_time'])\n",
    "    fea_FE = featureget(OR_fault.loc[i*windowSize_OR+1:(i+1)*windowSize_OR,'FE_time'])\n",
    "    fea_FE.extend('2')\n",
    "    fea_DE.extend(fea_FE)\n",
    "    feature_OR.append(fea_DE)\n",
    "\n",
    "#换成数据帧格式\n",
    "feature_OR = pd.DataFrame(feature_OR,columns=full_columns)\n"
   ]
  },
  {
   "cell_type": "code",
   "execution_count": 11,
   "metadata": {
    "collapsed": true
   },
   "outputs": [],
   "source": [
    "frames = [feature_B,feature_IR,feature_NORMAL,feature_OR]\n",
    "feature_all = pd.concat(frames)\n",
    "feature_all.to_csv('../Data_set/feature_4_new/feature_all.csv')"
   ]
  },
  {
   "cell_type": "markdown",
   "metadata": {},
   "source": [
    "下面没啥用"
   ]
  },
  {
   "cell_type": "code",
   "execution_count": 39,
   "metadata": {
    "collapsed": true
   },
   "outputs": [],
   "source": [
    "'''\n",
    "#提取完的保存路径\n",
    "feature_B.to_csv('../Data_set/feature_4_new/feature_B.csv',index=False)\n",
    "#提取完的保存路径\n",
    "feature_IR.to_csv('../Data_set/feature_4_new/feature_IR.csv',index=False)\n",
    "#提取完的保存路径\n",
    "feature_NORMAL.to_csv('../Data_set/feature_4_new/feature_NORMAL.csv',index=False)\n",
    "#提取完的保存路径\n",
    "feature_OR.to_csv('../Data_set/feature_4_new/feature_OR.csv',index=False)\n",
    "'''"
   ]
  },
  {
   "cell_type": "markdown",
   "metadata": {},
   "source": [
    "测试集特征提取，结果保存在Data_set/feature_test_all"
   ]
  },
  {
   "cell_type": "code",
   "execution_count": 16,
   "metadata": {
    "collapsed": true
   },
   "outputs": [],
   "source": [
    "test1 = pd.read_csv('../Data_set/test/TEST01.csv')\n",
    "test2 = pd.read_csv('../Data_set/test/TEST02.csv')\n",
    "test3 = pd.read_csv('../Data_set/test/TEST03.csv')\n",
    "test4 = pd.read_csv('../Data_set/test/TEST04.csv')\n",
    "test5 = pd.read_csv('../Data_set/test/TEST05.csv')\n",
    "test6 = pd.read_csv('../Data_set/test/TEST06.csv')\n",
    "test7 = pd.read_csv('../Data_set/test/TEST07.csv')\n",
    "test8 = pd.read_csv('../Data_set/test/TEST08.csv')\n",
    "test9 = pd.read_csv('../Data_set/test/TEST09.csv')\n",
    "test10 = pd.read_csv('../Data_set/test/TEST10.csv')\n",
    "test11 = pd.read_csv('../Data_set/test/TEST11.csv')\n",
    "test12 = pd.read_csv('../Data_set/test/TEST12.csv')\n",
    "test13 = pd.read_csv('../Data_set/test/TEST13.csv')\n",
    "test14 = pd.read_csv('../Data_set/test/TEST14.csv')"
   ]
  },
  {
   "cell_type": "markdown",
   "metadata": {},
   "source": [
    "for test in [test1,test2,test3,test4,test5,test6,test7,test8,test9,test10,test11,test12,test13,test14]:\n",
    "    print(test['RPM'][0])"
   ]
  },
  {
   "cell_type": "code",
   "execution_count": 24,
   "metadata": {
    "collapsed": true
   },
   "outputs": [],
   "source": [
    "#normal数据没有rpm值，在这里添加\n",
    "test8['RPM'] = 1750"
   ]
  },
  {
   "cell_type": "code",
   "execution_count": 25,
   "metadata": {},
   "outputs": [],
   "source": [
    "index = 0\n",
    "sampleRate = 12000\n",
    "for test in [test1,test2,test3,test4,test5,test6,test7,test8,test9,test10,test11,test12,test13,test14]:\n",
    "    feature_test = []\n",
    "    index = index + 1\n",
    "    windowSize = 60*sampleRate/test['RPM'][0] \n",
    "    for i in range(0,int(len(test)/windowSize)):  #int(len(B_fault)/windowSize)              #残余数据省略了，能不能改进？\n",
    "        fea_DE = featureget(test.loc[i*windowSize+1:(i+1)*windowSize,'DE_time'])\n",
    "        fea_FE = featureget(test.loc[i*windowSize+1:(i+1)*windowSize,'FE_time'])\n",
    "        fea_DE.extend(fea_FE)\n",
    "        feature_test.append(fea_DE)\n",
    "    #换成数据帧格式\n",
    "    feature_test = pd.DataFrame(feature_test,columns=full_columns[:-1])\n",
    "    \n",
    "    feature_test.to_csv('../Data_set/feature_test_all_new/TEST'+str(index).zfill(2)+'_all.csv',index=False)"
   ]
  },
  {
   "cell_type": "markdown",
   "metadata": {},
   "source": [
    "### 特征筛选"
   ]
  },
  {
   "cell_type": "code",
   "execution_count": 60,
   "metadata": {
    "collapsed": true
   },
   "outputs": [],
   "source": [
    "feature_selected_list = ['DE_time_mean',                                       \n",
    "                         'DE_time_std', \n",
    "                         'DE_time_max',\n",
    "                         'DE_time_min',\n",
    "                         'DE_time_ptp',\n",
    "                         'DE_time_median',\n",
    "                         'DE_time_iqr',\n",
    "                         'DE_time_pr',\n",
    "                         'DE_time_skew',\n",
    "                         'DE_time_kurtosis',\n",
    "                     #    'DE_time_var',\n",
    "                         'DE_time_amp',\n",
    "                         'DE_time_smr',\n",
    "                         'DE_time_pulse',\n",
    "                      #   'DE_time_margin',\n",
    "                         'DE_1X',\n",
    "                         'DE_2X',\n",
    "                         'DE_3X',\n",
    "                         'DE_1XRatio',\n",
    "                         'DE_2XRatio',\n",
    "                         'DE_3XRatio',\n",
    "                         'FE_time_mean',\n",
    "                         'FE_time_std',\n",
    "                         'FE_time_max',\n",
    "                         'FE_time_min',\n",
    "                         'FE_time_ptp',\n",
    "                         'FE_time_median',\n",
    "                         'FE_time_iqr',\n",
    "                         'FE_time_pr',\n",
    "                         'FE_time_skew',\n",
    "                         'FE_time_kurtosis',\n",
    "                      #   'FE_time_var',\n",
    "                         'FE_time_amp',\n",
    "                         'FE_time_smr',\n",
    "                         'FE_time_pulse',\n",
    "                     #    'FE_time_margin',\n",
    "                         'FE_1X',\n",
    "                         'FE_2X',\n",
    "                         'FE_3X',\n",
    "                         'FE_1XRatio',\n",
    "                         'FE_2XRatio',\n",
    "                         'FE_3XRatio',\n",
    "                         'label']"
   ]
  },
  {
   "cell_type": "markdown",
   "metadata": {},
   "source": [
    "训练集特征筛选,筛选后的训练文件/Data_set/feature_4/feature_selected.csv"
   ]
  },
  {
   "cell_type": "code",
   "execution_count": 61,
   "metadata": {
    "collapsed": true
   },
   "outputs": [],
   "source": [
    "#frames = [feature_B,feature_IR,feature_NORMAL,feature_OR]\n",
    "#feature_all = pd.concat(frames)\n",
    "feature_all = pd.read_csv('../Data_set/feature_4/feature_all.csv')\n",
    "\n",
    "#特征筛选\n",
    "feature_selected = feature_all[feature_selected_list]\n",
    "\n",
    "feature_selected.to_csv('../Data_set/feature_4/feature_selected.csv',index=False)"
   ]
  },
  {
   "cell_type": "markdown",
   "metadata": {},
   "source": [
    "测试集特征筛选，筛选后的测试文件/Data_set/feature_test/TEST0x.csv"
   ]
  },
  {
   "cell_type": "code",
   "execution_count": 62,
   "metadata": {
    "collapsed": true
   },
   "outputs": [],
   "source": [
    "path = '../Data_set/feature_test_all'\n",
    "files = os.listdir(path)\n",
    "\n",
    "index = 0\n",
    "for file2select in files:\n",
    "    index = index + 1\n",
    "    dffile = pd.read_csv(path + '/' + file2select)\n",
    "    #特征筛选\n",
    "    dffile = dffile[feature_selected_list[:-1]]\n",
    "    dffile.to_csv('../Data_set/feature_test/TEST'+str(index).zfill(2)+'.csv',index=False)  "
   ]
  },
  {
   "cell_type": "markdown",
   "metadata": {},
   "source": [
    "记录\n",
    "1.全部，model1_0,score81.\n",
    "3.不用DE_time_var，DE_time_margin，model1_2,score84.65259032102647"
   ]
  }
 ],
 "metadata": {
  "kernelspec": {
   "display_name": "Python 3",
   "language": "python",
   "name": "python3"
  },
  "language_info": {
   "codemirror_mode": {
    "name": "ipython",
    "version": 3
   },
   "file_extension": ".py",
   "mimetype": "text/x-python",
   "name": "python",
   "nbconvert_exporter": "python",
   "pygments_lexer": "ipython3",
   "version": "3.6.4"
  }
 },
 "nbformat": 4,
 "nbformat_minor": 2
}
