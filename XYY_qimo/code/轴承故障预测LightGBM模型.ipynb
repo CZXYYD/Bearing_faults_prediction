{
 "cells": [
  {
   "cell_type": "markdown",
   "metadata": {},
   "source": [
    "joblib.dump训练模型的保存与恢复:https://blog.csdn.net/zjc910997316/article/details/84404233"
   ]
  },
  {
   "cell_type": "code",
   "execution_count": 5,
   "metadata": {},
   "outputs": [],
   "source": [
    "import lightgbm as lgb\n",
    "import numpy as np\n",
    "import pandas as pd\n",
    "import os\n",
    "from sklearn.externals import joblib"
   ]
  },
  {
   "cell_type": "code",
   "execution_count": 14,
   "metadata": {},
   "outputs": [],
   "source": [
    "feature_B = pd.read_csv('./feature_4/feature_B.csv')\n",
    "feature_IR = pd.read_csv('./feature_4/feature_IR.csv')\n",
    "feature_NORMAL = pd.read_csv('./feature_4/feature_NORMAL.csv')\n",
    "feature_OR = pd.read_csv('./feature_4/feature_OR.csv')\n",
    "frames = [feature_B,feature_IR,feature_NORMAL,feature_OR]\n",
    "train_data = pd.concat(frames)"
   ]
  },
  {
   "cell_type": "code",
   "execution_count": 16,
   "metadata": {},
   "outputs": [],
   "source": [
    "#train_data"
   ]
  },
  {
   "cell_type": "markdown",
   "metadata": {},
   "source": [
    "训练模型"
   ]
  },
  {
   "cell_type": "code",
   "execution_count": 19,
   "metadata": {},
   "outputs": [
    {
     "data": {
      "text/plain": [
       "['./model/lightgbm.model']"
      ]
     },
     "execution_count": 19,
     "metadata": {},
     "output_type": "execute_result"
    }
   ],
   "source": [
    "# 模型初始化，设置random_state保证可复现性，便于观察优化\n",
    "\n",
    "train_data_y = train_data['label']\n",
    "# 除去标签的所有列就是特征\n",
    "train_data_x = train_data.drop(['label'], axis=1)\n",
    "\n",
    "model_lgb_default = lgb.LGBMClassifier(random_state=2019)\n",
    "# 模型训练\n",
    "model_lgb_default.fit(train_data_x, train_data_y)\n",
    "joblib.dump(model_lgb_default, './model/lightgbm.model')"
   ]
  }
 ],
 "metadata": {
  "kernelspec": {
   "display_name": "Python 3",
   "language": "python",
   "name": "python3"
  },
  "language_info": {
   "codemirror_mode": {
    "name": "ipython",
    "version": 3
   },
   "file_extension": ".py",
   "mimetype": "text/x-python",
   "name": "python",
   "nbconvert_exporter": "python",
   "pygments_lexer": "ipython3",
   "version": "3.6.4"
  }
 },
 "nbformat": 4,
 "nbformat_minor": 2
}
